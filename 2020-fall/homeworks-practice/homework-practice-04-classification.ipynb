{
 "cells": [
  {
   "cell_type": "markdown",
   "metadata": {},
   "source": [
    "# Машинное обучение, ФКН ВШЭ\n",
    "\n",
    "## Практическое задание 4. Классификация. \n",
    "\n",
    "### Общая информация\n",
    "Дата выдачи: 20.10.2020\n",
    "\n",
    "Мягкий дедлайн: 01:59MSK 02.11.2020 (за каждый день просрочки снимается 1 балл)\n",
    "\n",
    "Жесткий дедлайн: 01:59MSK 05.11.2020"
   ]
  },
  {
   "cell_type": "markdown",
   "metadata": {},
   "source": [
    "### О задании\n",
    "\n",
    "В этом задании вы:\n",
    "- ознакомитесь с тем, что происходит \"внутри\" метода опорных векторов и логистической регрессии\n",
    "- познакомитесь с калибровкой вероятности\n",
    "- изучите методы трансформации переменных и методы отбора признаков\n",
    "- попробуете оценить экономический эффект модели\n",
    "\n",
    "\n",
    "### Оценивание и штрафы\n",
    "Каждая из задач имеет определенную «стоимость» (указана в скобках около задачи). Максимально допустимая оценка за работу — 10 баллов.\n",
    "\n",
    "Сдавать задание после указанного срока сдачи нельзя. При выставлении неполного балла за задание в связи с наличием ошибок на усмотрение проверяющего предусмотрена возможность исправить работу на указанных в ответном письме условиях.\n",
    "\n",
    "Задание выполняется самостоятельно. «Похожие» решения считаются плагиатом и все задействованные студенты (в том числе те, у кого списали) не могут получить за него больше 0 баллов (подробнее о плагиате см. на странице курса). Если вы нашли решение какого-то из заданий (или его часть) в открытом источнике, необходимо указать ссылку на этот источник в отдельном блоке в конце вашей работы (скорее всего вы будете не единственным, кто это нашел, поэтому чтобы исключить подозрение в плагиате, необходима ссылка на источник).\n",
    "\n",
    "Неэффективная реализация кода может негативно отразиться на оценке.\n",
    "\n",
    "\n",
    "### Формат сдачи\n",
    "Для сдачи задания переименуйте получившийся файл *.ipynb в соответствии со следующим форматом: homework-practice-04-classification-Username.ipynb, где Username — ваша фамилия и имя на латинице именно в таком порядке (например, homework-practice-04-classification-IvanovIvan.ipynb).\n",
    "\n",
    "Для удобства проверки самостоятельно посчитайте свою максимальную оценку (исходя из набора решенных задач) и укажите ниже.\n",
    "\n",
    "**Оценка**: 10 + 1,51"
   ]
  },
  {
   "cell_type": "code",
   "execution_count": 5,
   "metadata": {},
   "outputs": [],
   "source": [
    "import numpy as np\n",
    "import pandas as pd\n",
    "import matplotlib.pyplot as plt\n",
    "%matplotlib inline\n",
    "\n",
    "pd.set_option('display.max_rows', 100)\n",
    "pd.set_option('display.max_columns', 100)"
   ]
  },
  {
   "cell_type": "markdown",
   "metadata": {},
   "source": [
    "# Часть 0. SVM, LR и калибровка вероятностей. "
   ]
  },
  {
   "cell_type": "markdown",
   "metadata": {},
   "source": [
    "Сгенерируем синтетические данные."
   ]
  },
  {
   "cell_type": "code",
   "execution_count": 4,
   "metadata": {},
   "outputs": [],
   "source": [
    "from sklearn.datasets import make_classification\n",
    "from sklearn.model_selection import train_test_split\n",
    "\n",
    "\n",
    "\n",
    "X, y = make_classification(\n",
    "    n_samples=10000, n_features=10, n_informative=5, n_redundant=5,\n",
    "    random_state=42)\n",
    "\n",
    "X_train, X_test, y_train, y_test = train_test_split(\n",
    "    X, y, test_size=0.3, random_state=42)"
   ]
  },
  {
   "cell_type": "markdown",
   "metadata": {},
   "source": [
    "__Задание 1.__ Обучение и применение метода опорных векторов и логистической регрессии.\n",
    "\n",
    "__(1 балл)__\n",
    "\n",
    "Обучите метод опорных векторов. На занятиях мы проходили линейный вариант без ядрового перехода, что соответствует линейному ядру (`LinearSVC` или же `SVC(kernel='linear')` в `sklearn.svm`). Подберите параметр регуляризации `C` (можете воспользоваться кросс-валидацией или отделить валидационную выборку от обучающей). "
   ]
  },
  {
   "cell_type": "code",
   "execution_count": 3,
   "metadata": {},
   "outputs": [],
   "source": [
    "from sklearn.model_selection import GridSearchCV\n",
    "from sklearn.preprocessing import StandardScaler\n",
    "from sklearn.svm import LinearSVC\n",
    "from sklearn.pipeline import Pipeline\n",
    "from sklearn.metrics import roc_curve, precision_recall_curve, auc, roc_auc_score, average_precision_score\n",
    "from sklearn.compose import ColumnTransformer\n",
    "from sklearn.preprocessing import OrdinalEncoder, OneHotEncoder\n",
    "from sklearn.datasets import make_classification\n",
    "from sklearn.model_selection import train_test_split\n",
    "import numpy as np\n",
    "import pandas as pd\n",
    "import matplotlib.pyplot as plt\n",
    "\n",
    "C_list = np.logspace(-2, 2, 5)"
   ]
  },
  {
   "cell_type": "code",
   "execution_count": 5,
   "metadata": {},
   "outputs": [
    {
     "name": "stderr",
     "output_type": "stream",
     "text": [
      "/Library/Frameworks/Python.framework/Versions/3.7/lib/python3.7/site-packages/sklearn/svm/_base.py:977: ConvergenceWarning: Liblinear failed to converge, increase the number of iterations.\n",
      "  \"the number of iterations.\", ConvergenceWarning)\n",
      "/Library/Frameworks/Python.framework/Versions/3.7/lib/python3.7/site-packages/sklearn/svm/_base.py:977: ConvergenceWarning: Liblinear failed to converge, increase the number of iterations.\n",
      "  \"the number of iterations.\", ConvergenceWarning)\n",
      "/Library/Frameworks/Python.framework/Versions/3.7/lib/python3.7/site-packages/sklearn/svm/_base.py:977: ConvergenceWarning: Liblinear failed to converge, increase the number of iterations.\n",
      "  \"the number of iterations.\", ConvergenceWarning)\n",
      "/Library/Frameworks/Python.framework/Versions/3.7/lib/python3.7/site-packages/sklearn/svm/_base.py:977: ConvergenceWarning: Liblinear failed to converge, increase the number of iterations.\n",
      "  \"the number of iterations.\", ConvergenceWarning)\n",
      "/Library/Frameworks/Python.framework/Versions/3.7/lib/python3.7/site-packages/sklearn/svm/_base.py:977: ConvergenceWarning: Liblinear failed to converge, increase the number of iterations.\n",
      "  \"the number of iterations.\", ConvergenceWarning)\n"
     ]
    }
   ],
   "source": [
    "svc = Pipeline([('scaler', StandardScaler()), (\"svc\", LinearSVC(random_state=0, max_iter=100000))]) \n",
    "param_name = \"svc__C\"\n",
    "search = GridSearchCV(estimator=svc, param_grid={param_name: C_list})\n",
    "model = search.fit(X_train, y_train)"
   ]
  },
  {
   "cell_type": "code",
   "execution_count": 6,
   "metadata": {},
   "outputs": [
    {
     "name": "stdout",
     "output_type": "stream",
     "text": [
      "Лучшее значение параметра svc__C=0.1\n",
      "CV score=0.7792857142857142\n"
     ]
    }
   ],
   "source": [
    "print(\"Лучшее значение параметра \" + param_name + \"=\" + str(model.best_params_[param_name]))\n",
    "print(\"CV score=\" + str(model.best_score_))"
   ]
  },
  {
   "cell_type": "markdown",
   "metadata": {},
   "source": [
    "На тестовой части посчитайте AUC-ROC, AUC-PR с точностью до 5 знаков. Постройте ROC и PR кривые, сравните их с ответами случайного классификатора. Заметим, что с помощью `sklearn` можно посчитать обе метрики двумя разными способами - в чем их различия? Сравните результаты. "
   ]
  },
  {
   "cell_type": "markdown",
   "metadata": {},
   "source": [
    "Первый способ"
   ]
  },
  {
   "cell_type": "code",
   "execution_count": 7,
   "metadata": {},
   "outputs": [
    {
     "name": "stdout",
     "output_type": "stream",
     "text": [
      "Для обученного классификатора (СВМ):\n",
      "\n",
      "Вручную:\n",
      "AUC-ROC = 0.84764\n",
      "AUC-PR = 0.82969\n",
      "\n",
      "При помощи готовых метрик:\n",
      "AUC-ROC = 0.84764\n",
      "AUC-PR = 0.82995\n"
     ]
    }
   ],
   "source": [
    "#your code here\n",
    "prediction = model.decision_function(X_test)\n",
    "\n",
    "print(\"Для обученного классификатора (СВМ):\")\n",
    "print()\n",
    "print(\"Вручную:\")\n",
    "fpr_svm, tpr_svm, thresholds = roc_curve(y_test, prediction)\n",
    "auc_roc = auc(fpr_svm, tpr_svm)\n",
    "print(\"AUC-ROC = \" + str(round(auc_roc, 5)))\n",
    "precision_svm, recall_svm, thresholds = precision_recall_curve(y_test, prediction)\n",
    "auc_pr = auc(recall_svm, precision_svm)\n",
    "print(\"AUC-PR = \" + str(round(auc_pr, 5)))\n",
    "print()\n",
    "print(\"При помощи готовых метрик:\")\n",
    "print(\"AUC-ROC = \" + str(round(roc_auc_score(y_test, prediction), 5)))\n",
    "print(\"AUC-PR = \" + str(round(average_precision_score(y_test, prediction), 5)))"
   ]
  },
  {
   "cell_type": "code",
   "execution_count": 10,
   "metadata": {},
   "outputs": [
    {
     "name": "stdout",
     "output_type": "stream",
     "text": [
      "Для случайного классификатора:\n",
      "\n",
      "Вручную:\n",
      "AUC-ROC = 0.51123\n",
      "AUC-PR = 0.50849\n",
      "\n",
      "При помощи готовых метрик:\n",
      "AUC-ROC = 0.51123\n",
      "AUC-PR = 0.50914\n"
     ]
    }
   ],
   "source": [
    "random_prediction = np.random.normal(0, 1, prediction.shape[0])\n",
    "\n",
    "print(\"Для случайного классификатора:\")\n",
    "print()\n",
    "print(\"Вручную:\")\n",
    "fpr_random, tpr_random, thresholds = roc_curve(y_test, random_prediction)\n",
    "auc_roc = auc(fpr_random, tpr_random)\n",
    "print(\"AUC-ROC = \" + str(round(auc_roc,5)))\n",
    "precision_random, recall_random, thresholds = precision_recall_curve(y_test, random_prediction)\n",
    "auc_pr = auc(recall_random, precision_random)\n",
    "print(\"AUC-PR = \" + str(round(auc_pr, 5)))\n",
    "print()\n",
    "\n",
    "print(\"При помощи готовых метрик:\")\n",
    "print(\"AUC-ROC = \" + str(round(roc_auc_score(y_test, random_prediction), 5)))\n",
    "print(\"AUC-PR = \" + str(round(average_precision_score(y_test, random_prediction), 5)))"
   ]
  },
  {
   "cell_type": "markdown",
   "metadata": {},
   "source": [
    "Получили практически одинаковые значения для ROC кривых для обоих вариантов метрик и довольно сильно различающиеся для PR кривой. Разница может быть обслувлена разным способ подсчета площади под кривыми: при использовании функции auc для подсчета площади используется метод трапеций, а для готовых метрик - формула:"
   ]
  },
  {
   "cell_type": "markdown",
   "metadata": {},
   "source": [
    "$$\\text{AP} = \\sum_n (R_n - R_{n-1}) P_n $$"
   ]
  },
  {
   "cell_type": "code",
   "execution_count": 11,
   "metadata": {},
   "outputs": [
    {
     "data": {
      "image/png": "[encoded data removed]",
      "text/plain": [
       "<Figure size 432x288 with 1 Axes>"
      ]
     },
     "metadata": {
      "needs_background": "light"
     },
     "output_type": "display_data"
    }
   ],
   "source": [
    "import matplotlib.pyplot as plt\n",
    "\n",
    "plt.figure()\n",
    "ax = plt.subplot()\n",
    "ax.plot(fpr_svm, tpr_svm, label='svm')\n",
    "ax.set_title('ROC')\n",
    "ax.set(xlabel='FPR', ylabel='TPR')\n",
    "ax.plot(fpr_random, tpr_random, label='random')\n",
    "plt.legend()\n",
    "plt.show()\n"
   ]
  },
  {
   "cell_type": "code",
   "execution_count": 12,
   "metadata": {},
   "outputs": [
    {
     "data": {
      "image/png": "[encoded data removed]",
      "text/plain": [
       "<Figure size 432x288 with 1 Axes>"
      ]
     },
     "metadata": {
      "needs_background": "light"
     },
     "output_type": "display_data"
    }
   ],
   "source": [
    "ax = plt.subplot()\n",
    "ax.plot(recall_svm, precision_svm, label='svm')\n",
    "ax.set_title('RP (SVM)')\n",
    "ax.set(xlabel='recall', ylabel='precision')\n",
    "ax.plot(recall_random, precision_random, label='random')\n",
    "plt.legend()\n",
    "\n",
    "plt.show()"
   ]
  },
  {
   "cell_type": "markdown",
   "metadata": {},
   "source": [
    "Очевидно, что по данным прямым можно сделать вывод, что наш классификатор ведет себя гораздо лучше случайного"
   ]
  },
  {
   "cell_type": "markdown",
   "metadata": {},
   "source": [
    "А теперь проделайте все то же самое для логистической регрессии (LR) — обучение, подбор параметра регуляризации (используйте L2-регуляризацию), вычисление всех метрик и построение кривых. Сравните результаты LR и SVM с точки зрения всех вычисленных критериев качества, объясните различия (если они есть)."
   ]
  },
  {
   "cell_type": "code",
   "execution_count": null,
   "metadata": {},
   "outputs": [],
   "source": [
    "from sklearn.linear_model import LogisticRegression\n",
    "\n",
    "logreg = Pipeline([('scaler', StandardScaler()), (\"logreg\", LogisticRegression(penalty='l2'))])\n",
    "param_name = \"logreg__C\"\n",
    "search_logreg = GridSearchCV(estimator=logreg, param_grid={param_name: C_list})\n",
    "model_logreg = search_logreg.fit(X_train, y_train)"
   ]
  },
  {
   "cell_type": "code",
   "execution_count": 14,
   "metadata": {},
   "outputs": [
    {
     "name": "stdout",
     "output_type": "stream",
     "text": [
      "Лучшее значение параметра logreg__C=1.0\n",
      "CV score=0.7801428571428571\n"
     ]
    }
   ],
   "source": [
    "print(\"Лучшее значение параметра \" + param_name + \"=\" + str(model_logreg.best_params_[param_name]))\n",
    "print(\"CV score=\" + str(model_logreg.best_score_))"
   ]
  },
  {
   "cell_type": "code",
   "execution_count": 15,
   "metadata": {},
   "outputs": [
    {
     "name": "stdout",
     "output_type": "stream",
     "text": [
      "Для обученного классификатора (ЛогРег):\n",
      "AUC-ROC = 0.84787\n",
      "AUC-PR = 0.82912\n"
     ]
    }
   ],
   "source": [
    "prediction_logreg = model_logreg.decision_function(X_test)\n",
    "\n",
    "print(\"Для обученного классификатора (ЛогРег):\")\n",
    "fpr_logreg, tpr_logreg, thresholds = roc_curve(y_test, prediction_logreg)\n",
    "auc_roc = auc(fpr_logreg, tpr_logreg)\n",
    "print(\"AUC-ROC = \" + str(round(auc_roc,5)))\n",
    "precision_logreg, recall_logreg, thresholds = precision_recall_curve(y_test, prediction_logreg)\n",
    "auc_pr = auc(recall_logreg, precision_logreg)\n",
    "print(\"AUC-PR = \" + str(round(auc_pr, 5)))"
   ]
  },
  {
   "cell_type": "code",
   "execution_count": 16,
   "metadata": {},
   "outputs": [
    {
     "data": {
      "image/png": "[encoded data removed]",
      "text/plain": [
       "<Figure size 432x288 with 1 Axes>"
      ]
     },
     "metadata": {
      "needs_background": "light"
     },
     "output_type": "display_data"
    }
   ],
   "source": [
    "plt.figure()\n",
    "ax = plt.subplot()\n",
    "ax.plot(fpr_logreg, tpr_logreg, label='logreg')\n",
    "ax.plot(fpr_svm, tpr_svm, label='svm')\n",
    "ax.set_title('ROC (LogReg + SVM)')\n",
    "ax.set(xlabel='FPR', ylabel='TPR')\n",
    "plt.legend()\n",
    "plt.show()"
   ]
  },
  {
   "cell_type": "code",
   "execution_count": 17,
   "metadata": {},
   "outputs": [
    {
     "data": {
      "image/png": "[encoded data removed]",
      "text/plain": [
       "<Figure size 432x288 with 1 Axes>"
      ]
     },
     "metadata": {
      "needs_background": "light"
     },
     "output_type": "display_data"
    }
   ],
   "source": [
    "ax = plt.subplot()\n",
    "ax.plot(recall_logreg, precision_logreg, label=\"logreg\")\n",
    "ax.set_title('RP (LogReg + SVM)')\n",
    "ax.set(xlabel='recall', ylabel='precision')\n",
    "ax.plot(recall_svm, precision_svm, label=\"svm\")\n",
    "plt.legend()\n",
    "plt.show()"
   ]
  },
  {
   "cell_type": "markdown",
   "metadata": {},
   "source": [
    "Методы ведут себя практически идентично. ROC и PR кривые выглядят идентично. Логистическая регрессия показывает слегка более плохую PR кривую, но слегка более хорошую AUC кривую. Различие в метриках слишком незначительны, чтобы делать на их основе какие-то выводы, потому можно считать, что в данной ситуации методы дают одинаковый результат."
   ]
  },
  {
   "cell_type": "markdown",
   "metadata": {},
   "source": [
    "В названии метода опорных векторов присутствуют некоторые \"опорные векторы\". Сгенерируйте синтетический датасет с помощью `make_classification` с 2 признаками, обучите на нём метод опорных векторов. Визуализируйте разделяющую прямую, все объекты и выделите опорные вектора (атрибут `support_vectors_`). В этот раз, если необходимо, вместо `LinearSVC` воспользуйтесь `SVC(kernel='linear')`, так как только в нём есть информация об опорных векторах."
   ]
  },
  {
   "cell_type": "markdown",
   "metadata": {},
   "source": [
    "Ссылка на источник вдохновения: https://www.machinecurve.com/index.php/2020/05/05/how-to-visualize-support-vectors-of-your-svm-classifier/\n",
    "\n",
    "https://towardsdatascience.com/the-complete-guide-to-support-vector-machine-svm-f1a820d8af0b"
   ]
  },
  {
   "cell_type": "code",
   "execution_count": 18,
   "metadata": {},
   "outputs": [
    {
     "data": {
      "text/plain": [
       "Pipeline(steps=[('scaler', StandardScaler()), ('svc', SVC(kernel='linear'))])"
      ]
     },
     "execution_count": 18,
     "metadata": {},
     "output_type": "execute_result"
    }
   ],
   "source": [
    "#your code here\n",
    "from sklearn.svm import SVC\n",
    "X, y = make_classification(n_samples = 1000, n_features=2, n_informative=2, n_redundant=0)\n",
    "svc = Pipeline([('scaler', StandardScaler()), (\"svc\", SVC(kernel='linear'))]) \n",
    "svc.fit(X, y)"
   ]
  },
  {
   "cell_type": "markdown",
   "metadata": {},
   "source": [
    "Данные без разделяющей плоскости:"
   ]
  },
  {
   "cell_type": "code",
   "execution_count": 19,
   "metadata": {},
   "outputs": [
    {
     "data": {
      "text/plain": [
       "<matplotlib.collections.PathCollection at 0x7f843a141e10>"
      ]
     },
     "execution_count": 19,
     "metadata": {},
     "output_type": "execute_result"
    },
    {
     "data": {
      "image/png": "[encoded data removed]",
      "text/plain": [
       "<Figure size 432x288 with 1 Axes>"
      ]
     },
     "metadata": {
      "needs_background": "light"
     },
     "output_type": "display_data"
    }
   ],
   "source": [
    "scaler = StandardScaler()\n",
    "transformedX = scaler.fit_transform(X)\n",
    "support_vectors = svc[1].support_vectors_\n",
    "plt.scatter(transformedX[:, 0], transformedX[:, 1], c=y)"
   ]
  },
  {
   "cell_type": "markdown",
   "metadata": {},
   "source": [
    "Добавляем разделяющую плоскость:"
   ]
  },
  {
   "cell_type": "code",
   "execution_count": 20,
   "metadata": {},
   "outputs": [
    {
     "data": {
      "text/plain": [
       "<matplotlib.contour.QuadContourSet at 0x7f843a147950>"
      ]
     },
     "execution_count": 20,
     "metadata": {},
     "output_type": "execute_result"
    },
    {
     "data": {
      "image/png": "[encoded data removed]",
      "text/plain": [
       "<Figure size 432x288 with 1 Axes>"
      ]
     },
     "metadata": {
      "needs_background": "light"
     },
     "output_type": "display_data"
    }
   ],
   "source": [
    "\n",
    "plt.scatter(transformedX[:, 0], transformedX[:, 1], c=y)\n",
    "plt.scatter(support_vectors[:,0], support_vectors[:,1], color='red')\n",
    "x_1, x_2 = np.meshgrid(np.arange(-4.0, 4.0, 0.01), np.arange(-4.0, 4.0, 0.01))\n",
    "Z = svc[1].predict(np.c_[x_1.ravel(), x_2.ravel()])\n",
    "Z = Z.reshape(x_1.shape)\n",
    "plt.contour(x_1, x_2, Z, [0.5], colors='black')"
   ]
  },
  {
   "cell_type": "markdown",
   "metadata": {},
   "source": [
    "Красными точками выделены опорные вектора, черная полоса - разделяющая плоскость"
   ]
  },
  {
   "cell_type": "markdown",
   "metadata": {},
   "source": [
    "В отличие от метода опорных векторов, логистическая регрессия не пытается построить разделяющую гиперплоскость, а приближает в каждой точке пространства объектов правдоподобие положительных ответов $p(y=+1|x)$. Попробуйте нарисовать это распределение на плоскости, не забудьте отметить на ней все объекты. Вам может помочь функция `plt.pcolor`."
   ]
  },
  {
   "cell_type": "markdown",
   "metadata": {},
   "source": [
    "Источник вдохновения: https://scikit-learn.org/0.15/auto_examples/plot_classification_probability.html"
   ]
  },
  {
   "cell_type": "code",
   "execution_count": 85,
   "metadata": {},
   "outputs": [
    {
     "data": {
      "text/plain": [
       "Text(0.5, 1.0, 'Распределение вероятностей')"
      ]
     },
     "execution_count": 85,
     "metadata": {},
     "output_type": "execute_result"
    },
    {
     "data": {
      "image/png": "[encoded data removed]",
      "text/plain": [
       "<Figure size 1440x720 with 2 Axes>"
      ]
     },
     "metadata": {
      "needs_background": "light"
     },
     "output_type": "display_data"
    }
   ],
   "source": [
    "#your code here\n",
    "logreg = LogisticRegression(penalty='l2')\n",
    "logreg.fit(X, y)\n",
    "\n",
    "fig = plt.figure(figsize=(20, 10))\n",
    "\n",
    "xx = np.linspace(X[:,0].min(), X[:,0].max(), 100)\n",
    "yy = np.linspace(X[:,1].min(), X[:,1].max(), 100)\n",
    "xx, yy = np.meshgrid(xx, yy)\n",
    "Xfull = np.c_[xx.ravel(), yy.ravel()]\n",
    "probas = logreg.predict_proba(Xfull)\n",
    "prediction = logreg.predict(Xfull)\n",
    "positive_idx = (prediction == 1)\n",
    "map_ = plt.pcolor(xx, yy, probas[:, 1].reshape(100,100))\n",
    "fig.colorbar(map_, orientation='horizontal')\n",
    "plt.scatter(X[:, 0], X[:, 1], c=y, cmap='Reds')\n",
    "plt.xlabel('Первый признак')\n",
    "plt.ylabel('Втой признак')\n",
    "plt.title('Распределение вероятностей')"
   ]
  },
  {
   "cell_type": "markdown",
   "metadata": {},
   "source": [
    "Красными точками показан положительный класс, белыми - отрицательный, карта - вероятность принадлежности к положительному классу по классификатору"
   ]
  },
  {
   "cell_type": "markdown",
   "metadata": {},
   "source": [
    "__Задание 2.__ Калибровка вероятностей.\n",
    "\n",
    "__(1 балл)__\n",
    "\n",
    "Перейдём к оценке качества выдаваемых алгоритмами вероятностей. Начнём с калибровочных кривых. \n",
    "\n",
    "Допустим, алгоритм возвращает некоторые числа от нуля до единицы. Хорошо ли они оценивают вероятность? Для этого разобьем отрезок $[0, 1]$ на несколько маленьких отрезков одинаковой длины. Рассмотрим $i$-й отрезок с границами $[a_i, b_i]$ и предсказания $p_1, p_2, \\dots, p_k$, которые попали в него. Пусть им соответствуют истинные ответы $y_1, y_2, \\dots, y_k$. Если алгоритм выдает корректные вероятности, то среди этих истинных ответов должно быть примерно $(a_i + b_i) / 2$ единиц. Иными словами, если нарисовать кривую, у которой по оси X отложены центры отрезков, а по оси Y — доли единичных ответов этих в отрезках, то она должна оказаться диагональной. Ниже приведена функция, которая должна рисовать такие кривые. В ней допущено две ошибки — найдите и исправьте их."
   ]
  },
  {
   "cell_type": "code",
   "execution_count": 108,
   "metadata": {},
   "outputs": [],
   "source": [
    "def plot_calibration_curve(y_test, preds, title):\n",
    "    bin_middle_points = []\n",
    "    bin_real_ratios = []\n",
    "    n_bins = 10\n",
    "    for i in range(n_bins):\n",
    "        l = 1.0 / n_bins * i\n",
    "        r = 1.0 / n_bins * (i + 1)\n",
    "        bin_middle_points.append(l + (r - l) / 2) # меняем расчет середины интервала\n",
    "        bin_real_ratios.append(np.mean(y_test[(preds >= l) & (preds < r) == 1])) # меняем min на mean\n",
    "    plt.figure(figsize=(6,6))\n",
    "    plt.plot(bin_middle_points, bin_real_ratios)\n",
    "    plt.ylim([-0.05, 1.05])\n",
    "    plt.title(title)\n",
    "    plt.xlabel(\"Вероятность\")\n",
    "    plt.ylabel(\"PR\")\n",
    "    plt.grid()"
   ]
  },
  {
   "cell_type": "markdown",
   "metadata": {},
   "source": [
    "Сгенерируйте синтетический датасет аналогично использованному в самом первом задании. Постройте калибровочные кривые на тестовой части для логистической регрессии и метода опорных векторов (не забудьте перевести его предсказания в $[0;1]$). Изучите распределение ответов классификаторов (постройте гистограммы с помощью `plt.hist`). Чем они различаются? Чем вы можете объяснить это?"
   ]
  },
  {
   "cell_type": "code",
   "execution_count": 109,
   "metadata": {},
   "outputs": [],
   "source": [
    "#your code here\n",
    "X, y = make_classification(\n",
    "    n_samples=10000, n_features=10, n_informative=5, n_redundant=5,\n",
    "    random_state=42)\n",
    "\n",
    "X_train, X_test, y_train, y_test = train_test_split(\n",
    "    X, y, test_size=0.3, random_state=42)"
   ]
  },
  {
   "cell_type": "code",
   "execution_count": 118,
   "metadata": {},
   "outputs": [
    {
     "data": {
      "text/plain": [
       "Pipeline(steps=[('scaling', StandardScaler()),\n",
       "                ('logreg', LogisticRegression(C=1))])"
      ]
     },
     "execution_count": 118,
     "metadata": {},
     "output_type": "execute_result"
    }
   ],
   "source": [
    "svc = Pipeline([\n",
    "    ('scaling', StandardScaler()),\n",
    "    ('svc', SVC(C=0.1, probability=True))])\n",
    "svc.fit(X_train, y_train)\n",
    "\n",
    "logreg = Pipeline([\n",
    "    ('scaling', StandardScaler()),\n",
    "    ('logreg', LogisticRegression(C=1))])  \n",
    "\n",
    "logreg.fit(X_train, y_train)"
   ]
  },
  {
   "cell_type": "code",
   "execution_count": 124,
   "metadata": {},
   "outputs": [
    {
     "data": {
      "image/png": "[encoded data removed]",
      "text/plain": [
       "<Figure size 432x432 with 1 Axes>"
      ]
     },
     "metadata": {
      "needs_background": "light"
     },
     "output_type": "display_data"
    }
   ],
   "source": [
    "probas_logreg = logreg.predict_proba(X_test)[:, 1]\n",
    "plot_calibration_curve(y_test, probas_logreg, \"LogReg\")"
   ]
  },
  {
   "cell_type": "code",
   "execution_count": 123,
   "metadata": {},
   "outputs": [
    {
     "data": {
      "image/png": "[encoded data removed]",
      "text/plain": [
       "<Figure size 432x432 with 1 Axes>"
      ]
     },
     "metadata": {
      "needs_background": "light"
     },
     "output_type": "display_data"
    }
   ],
   "source": [
    "probas_svc = svc.predict_proba(X_test)[:, 1]\n",
    "plot_calibration_curve(y_test, probas_svc, \"SVM\")"
   ]
  },
  {
   "cell_type": "code",
   "execution_count": 137,
   "metadata": {},
   "outputs": [
    {
     "data": {
      "image/png": "[encoded data removed]",
      "text/plain": [
       "<Figure size 720x360 with 1 Axes>"
      ]
     },
     "metadata": {
      "needs_background": "light"
     },
     "output_type": "display_data"
    }
   ],
   "source": [
    "plt.figure(figsize=(10,5))\n",
    "plt.hist(probas_logreg, bins=20, color='green')\n",
    "plt.ylabel('Количество')\n",
    "plt.xlabel('Вероятность положительного класса')\n",
    "plt.title('Распределение вероятности (LogReg)')\n",
    "plt.show()"
   ]
  },
  {
   "cell_type": "code",
   "execution_count": 136,
   "metadata": {},
   "outputs": [
    {
     "data": {
      "image/png": "[encoded data removed]",
      "text/plain": [
       "<Figure size 720x360 with 1 Axes>"
      ]
     },
     "metadata": {
      "needs_background": "light"
     },
     "output_type": "display_data"
    }
   ],
   "source": [
    "plt.figure(figsize=(10,5))\n",
    "plt.hist(probas_svc, bins=20, color='green')\n",
    "plt.ylabel('Количество')\n",
    "plt.xlabel('Вероятность положительного класса')\n",
    "plt.title('Распределение вероятности (SVM)')\n",
    "plt.show()"
   ]
  },
  {
   "cell_type": "markdown",
   "metadata": {},
   "source": [
    "Разница в гистограммах обусловлена особенностями методов. СВМ пытается разделить выборку так, чтобы разделяющая полоса была максимальной, потому мы наблюдаем, что большинство объектов либо однозначно неположительные, либо однозначно положительные."
   ]
  },
  {
   "cell_type": "markdown",
   "metadata": {},
   "source": [
    "Воспользуйтесь `CalibratedClassifierCV` из `sklearn` для калибровки вероятностей метода опорных векторов на обучении и постройте с его помощью предсказания для тестовой выборки. Нарисуйте для них калибровочную кривую. Улучшилась ли она?"
   ]
  },
  {
   "cell_type": "code",
   "execution_count": 141,
   "metadata": {},
   "outputs": [
    {
     "data": {
      "text/plain": [
       "array([0.99591708, 0.00418535, 0.01078286, ..., 0.00371426, 0.98072385,\n",
       "       0.95535259])"
      ]
     },
     "execution_count": 141,
     "metadata": {},
     "output_type": "execute_result"
    }
   ],
   "source": [
    "#your code here\n",
    "from sklearn.calibration import CalibratedClassifierCV\n",
    "\n",
    "svc_calibrated = CalibratedClassifierCV(svc, method='sigmoid', cv='prefit')\n",
    "svc_calibrated.fit(X_train, y_train)\n",
    "proba_svc_calibrated = svc_calibrated.predict_proba(X_test)[:,1]\n",
    "proba_svc_calibrated"
   ]
  },
  {
   "cell_type": "code",
   "execution_count": 142,
   "metadata": {},
   "outputs": [
    {
     "data": {
      "image/png": "[encoded data removed]",
      "text/plain": [
       "<Figure size 432x432 with 1 Axes>"
      ]
     },
     "metadata": {
      "needs_background": "light"
     },
     "output_type": "display_data"
    }
   ],
   "source": [
    "plot_calibration_curve(y_test, proba_svc_calibrated, \"SVM (calibrated)\")"
   ]
  },
  {
   "cell_type": "markdown",
   "metadata": {},
   "source": [
    "На разных графиках результат не очевиден. Посмотрим на прямые на одном графике"
   ]
  },
  {
   "cell_type": "code",
   "execution_count": 154,
   "metadata": {},
   "outputs": [
    {
     "data": {
      "image/png": "[encoded data removed]",
      "text/plain": [
       "<Figure size 432x432 with 1 Axes>"
      ]
     },
     "metadata": {
      "needs_background": "light"
     },
     "output_type": "display_data"
    }
   ],
   "source": [
    "preds = proba_svc_calibrated\n",
    "bin_middle_points = []\n",
    "bin_real_ratios = []\n",
    "# Высчитываем точки для прямой после калибровки\n",
    "n_bins = 10\n",
    "for i in range(n_bins):\n",
    "    l = 1.0 / n_bins * i\n",
    "    r = 1.0 / n_bins * (i + 1)\n",
    "    bin_middle_points.append(l + (r - l) / 2)\n",
    "    bin_real_ratios.append(np.mean(y_test[(preds >= l) & (preds < r) == 1]))\n",
    "plt.figure(figsize=(6,6))\n",
    "plt.plot(bin_middle_points, bin_real_ratios, label='После калибровки')\n",
    "\n",
    "preds = probas_svc\n",
    "bin_middle_points = []\n",
    "bin_real_ratios = []\n",
    "# Высчитываем точки для прямой до калибровки\n",
    "n_bins = 10\n",
    "for i in range(n_bins):\n",
    "    l = 1.0 / n_bins * i\n",
    "    r = 1.0 / n_bins * (i + 1)\n",
    "    bin_middle_points.append(l + (r - l) / 2) # меняем расчет середины интервала\n",
    "    bin_real_ratios.append(np.mean(y_test[(preds >= l) & (preds < r) == 1])) # меняем min на mean\n",
    "plt.plot(bin_middle_points, bin_real_ratios, label=\"До калибровки\")\n",
    "plt.ylim([-0.05, 1.05])\n",
    "plt.title(\"123\")\n",
    "plt.xlabel(\"Вероятность\")\n",
    "plt.ylabel(\"PR\")\n",
    "plt.legend()\n",
    "plt.show()"
   ]
  },
  {
   "cell_type": "markdown",
   "metadata": {},
   "source": [
    "Нельзя однозначно судить, какая из прямых ближе к диагональной. В любом случае, изменения довольно незначительны."
   ]
  },
  {
   "cell_type": "markdown",
   "metadata": {},
   "source": [
    "__Бонусное задание (0.5 балла).__ Реализуйте свою функцию для калибровки вероятностей. Опишите ваш подход и продемонстрируйте результаты. Ключевые слова для вдохновения: `Platt`, `Isotonic`."
   ]
  },
  {
   "cell_type": "markdown",
   "metadata": {},
   "source": [
    "Ну это что-то за гранью добра и зла"
   ]
  },
  {
   "cell_type": "markdown",
   "metadata": {},
   "source": [
    "# Часть 1. Работа с переменными."
   ]
  },
  {
   "cell_type": "markdown",
   "metadata": {},
   "source": [
    "В этой части мы научимся обрабатывать категориальные переменные, так как закодировать их в виде чисел недостаточно (это задаёт некоторый порядок, которого на категориальных переменных может и не быть). Существует два основных способа обработки категориальных значений:\n",
    "- One-hot-кодирование\n",
    "- Счётчики (CTR, mean-target кодирование, ...) — каждый категориальный признак заменяется на среднее значение целевой переменной по всем объектам, имеющим одинаковое значение в этом признаке.\n",
    "\n",
    "Начнём с one-hot-кодирования. Допустим наш категориальный признак $f_j(x)$ принимает значения из множества $C=\\{c_1, \\dots, c_m\\}$. Заменим его на $m$ бинарных признаков $b_1(x), \\dots, b_m(x)$, каждый из которых является индикатором одного из возможных категориальных значений:\n",
    "$$\n",
    "b_i(x) = [f_j(x) = c_i]\n",
    "$$"
   ]
  },
  {
   "cell_type": "markdown",
   "metadata": {},
   "source": [
    "__Подготовка данных.__\n",
    "\n",
    "Загрузим данные [UCI Bank Marketing Dataset](https://archive.ics.uci.edu/ml/datasets/bank+marketing). Этот датасет содержит информацию о банковском телефонном маркетинге, объектом в нем является телефонный звонок потенциальному клиенту с предложением некоторой услуги (утверждается, что это краткосрочный депозит), целевой переменной - ответ клиента (согласился ли он открыть депозит?). В качестве признакового описания используются характеристики клиента (образование, брак и т.д.), данные о звонке и различные экономические индикаторы - более подробная информация представлена в файле `bank-additional-names.txt`."
   ]
  },
  {
   "cell_type": "code",
   "execution_count": null,
   "metadata": {},
   "outputs": [
    {
     "name": "stdout",
     "output_type": "stream",
     "text": [
      "--2020-11-25 23:40:24--  https://archive.ics.uci.edu/ml/machine-learning-databases/00222/bank-additional.zip\n",
      "Resolving archive.ics.uci.edu (archive.ics.uci.edu)... 128.195.10.252\n",
      "Connecting to archive.ics.uci.edu (archive.ics.uci.edu)|128.195.10.252|:443... connected.\n",
      "HTTP request sent, awaiting response... 200 OK\n",
      "Length: 444572 (434K) [application/x-httpd-php]\n",
      "Saving to: ‘bank-additional.zip.2’\n",
      "\n",
      "bank-additional.zip 100%[===================>] 434,15K   157KB/s    in 2,8s    \n",
      "\n",
      "2020-11-25 23:40:28 (157 KB/s) - ‘bank-additional.zip.2’ saved [444572/444572]\n",
      "\n",
      "Archive:  bank-additional.zip\n",
      "replace bank-additional/.DS_Store? [y]es, [n]o, [A]ll, [N]one, [r]ename: "
     ]
    }
   ],
   "source": [
    "!wget https://archive.ics.uci.edu/ml/machine-learning-databases/00222/bank-additional.zip\n",
    "!unzip bank-additional.zip\n"
   ]
  },
  {
   "cell_type": "code",
   "execution_count": 6,
   "metadata": {},
   "outputs": [],
   "source": [
    "df = pd.read_csv('bank-additional/bank-additional-full.csv', sep=';')"
   ]
  },
  {
   "cell_type": "code",
   "execution_count": 7,
   "metadata": {},
   "outputs": [
    {
     "data": {
      "text/html": [
       "<div>\n",
       "<style scoped>\n",
       "    .dataframe tbody tr th:only-of-type {\n",
       "        vertical-align: middle;\n",
       "    }\n",
       "\n",
       "    .dataframe tbody tr th {\n",
       "        vertical-align: top;\n",
       "    }\n",
       "\n",
       "    .dataframe thead th {\n",
       "        text-align: right;\n",
       "    }\n",
       "</style>\n",
       "<table border=\"1\" class=\"dataframe\">\n",
       "  <thead>\n",
       "    <tr style=\"text-align: right;\">\n",
       "      <th></th>\n",
       "      <th>age</th>\n",
       "      <th>job</th>\n",
       "      <th>marital</th>\n",
       "      <th>education</th>\n",
       "      <th>default</th>\n",
       "      <th>housing</th>\n",
       "      <th>loan</th>\n",
       "      <th>contact</th>\n",
       "      <th>month</th>\n",
       "      <th>day_of_week</th>\n",
       "      <th>duration</th>\n",
       "      <th>campaign</th>\n",
       "      <th>pdays</th>\n",
       "      <th>previous</th>\n",
       "      <th>poutcome</th>\n",
       "      <th>emp.var.rate</th>\n",
       "      <th>cons.price.idx</th>\n",
       "      <th>cons.conf.idx</th>\n",
       "      <th>euribor3m</th>\n",
       "      <th>nr.employed</th>\n",
       "      <th>y</th>\n",
       "    </tr>\n",
       "  </thead>\n",
       "  <tbody>\n",
       "    <tr>\n",
       "      <th>0</th>\n",
       "      <td>56</td>\n",
       "      <td>housemaid</td>\n",
       "      <td>married</td>\n",
       "      <td>basic.4y</td>\n",
       "      <td>no</td>\n",
       "      <td>no</td>\n",
       "      <td>no</td>\n",
       "      <td>telephone</td>\n",
       "      <td>may</td>\n",
       "      <td>mon</td>\n",
       "      <td>261</td>\n",
       "      <td>1</td>\n",
       "      <td>999</td>\n",
       "      <td>0</td>\n",
       "      <td>nonexistent</td>\n",
       "      <td>1.1</td>\n",
       "      <td>93.994</td>\n",
       "      <td>-36.4</td>\n",
       "      <td>4.857</td>\n",
       "      <td>5191.0</td>\n",
       "      <td>no</td>\n",
       "    </tr>\n",
       "    <tr>\n",
       "      <th>1</th>\n",
       "      <td>57</td>\n",
       "      <td>services</td>\n",
       "      <td>married</td>\n",
       "      <td>high.school</td>\n",
       "      <td>unknown</td>\n",
       "      <td>no</td>\n",
       "      <td>no</td>\n",
       "      <td>telephone</td>\n",
       "      <td>may</td>\n",
       "      <td>mon</td>\n",
       "      <td>149</td>\n",
       "      <td>1</td>\n",
       "      <td>999</td>\n",
       "      <td>0</td>\n",
       "      <td>nonexistent</td>\n",
       "      <td>1.1</td>\n",
       "      <td>93.994</td>\n",
       "      <td>-36.4</td>\n",
       "      <td>4.857</td>\n",
       "      <td>5191.0</td>\n",
       "      <td>no</td>\n",
       "    </tr>\n",
       "    <tr>\n",
       "      <th>2</th>\n",
       "      <td>37</td>\n",
       "      <td>services</td>\n",
       "      <td>married</td>\n",
       "      <td>high.school</td>\n",
       "      <td>no</td>\n",
       "      <td>yes</td>\n",
       "      <td>no</td>\n",
       "      <td>telephone</td>\n",
       "      <td>may</td>\n",
       "      <td>mon</td>\n",
       "      <td>226</td>\n",
       "      <td>1</td>\n",
       "      <td>999</td>\n",
       "      <td>0</td>\n",
       "      <td>nonexistent</td>\n",
       "      <td>1.1</td>\n",
       "      <td>93.994</td>\n",
       "      <td>-36.4</td>\n",
       "      <td>4.857</td>\n",
       "      <td>5191.0</td>\n",
       "      <td>no</td>\n",
       "    </tr>\n",
       "    <tr>\n",
       "      <th>3</th>\n",
       "      <td>40</td>\n",
       "      <td>admin.</td>\n",
       "      <td>married</td>\n",
       "      <td>basic.6y</td>\n",
       "      <td>no</td>\n",
       "      <td>no</td>\n",
       "      <td>no</td>\n",
       "      <td>telephone</td>\n",
       "      <td>may</td>\n",
       "      <td>mon</td>\n",
       "      <td>151</td>\n",
       "      <td>1</td>\n",
       "      <td>999</td>\n",
       "      <td>0</td>\n",
       "      <td>nonexistent</td>\n",
       "      <td>1.1</td>\n",
       "      <td>93.994</td>\n",
       "      <td>-36.4</td>\n",
       "      <td>4.857</td>\n",
       "      <td>5191.0</td>\n",
       "      <td>no</td>\n",
       "    </tr>\n",
       "    <tr>\n",
       "      <th>4</th>\n",
       "      <td>56</td>\n",
       "      <td>services</td>\n",
       "      <td>married</td>\n",
       "      <td>high.school</td>\n",
       "      <td>no</td>\n",
       "      <td>no</td>\n",
       "      <td>yes</td>\n",
       "      <td>telephone</td>\n",
       "      <td>may</td>\n",
       "      <td>mon</td>\n",
       "      <td>307</td>\n",
       "      <td>1</td>\n",
       "      <td>999</td>\n",
       "      <td>0</td>\n",
       "      <td>nonexistent</td>\n",
       "      <td>1.1</td>\n",
       "      <td>93.994</td>\n",
       "      <td>-36.4</td>\n",
       "      <td>4.857</td>\n",
       "      <td>5191.0</td>\n",
       "      <td>no</td>\n",
       "    </tr>\n",
       "  </tbody>\n",
       "</table>\n",
       "</div>"
      ],
      "text/plain": [
       "   age        job  marital    education  default housing loan    contact  \\\n",
       "0   56  housemaid  married     basic.4y       no      no   no  telephone   \n",
       "1   57   services  married  high.school  unknown      no   no  telephone   \n",
       "2   37   services  married  high.school       no     yes   no  telephone   \n",
       "3   40     admin.  married     basic.6y       no      no   no  telephone   \n",
       "4   56   services  married  high.school       no      no  yes  telephone   \n",
       "\n",
       "  month day_of_week  duration  campaign  pdays  previous     poutcome  \\\n",
       "0   may         mon       261         1    999         0  nonexistent   \n",
       "1   may         mon       149         1    999         0  nonexistent   \n",
       "2   may         mon       226         1    999         0  nonexistent   \n",
       "3   may         mon       151         1    999         0  nonexistent   \n",
       "4   may         mon       307         1    999         0  nonexistent   \n",
       "\n",
       "   emp.var.rate  cons.price.idx  cons.conf.idx  euribor3m  nr.employed   y  \n",
       "0           1.1          93.994          -36.4      4.857       5191.0  no  \n",
       "1           1.1          93.994          -36.4      4.857       5191.0  no  \n",
       "2           1.1          93.994          -36.4      4.857       5191.0  no  \n",
       "3           1.1          93.994          -36.4      4.857       5191.0  no  \n",
       "4           1.1          93.994          -36.4      4.857       5191.0  no  "
      ]
     },
     "execution_count": 7,
     "metadata": {},
     "output_type": "execute_result"
    }
   ],
   "source": [
    "df.head()"
   ]
  },
  {
   "cell_type": "markdown",
   "metadata": {},
   "source": [
    "__Задание 3 (0.5 балла).__ Разделите выборку на обучающую и тестовую в соотношении 3:1. Зафиксируйте `random_state=777`, также используйте `stratify`. Один из столбцов в данных не несет информации для решения задачи — какой? Отбросьте его. \n",
    "\n"
   ]
  },
  {
   "cell_type": "markdown",
   "metadata": {},
   "source": [
    "Интересными для нас являются факторы, которые мы можем получить непосредственно до совершения звонка. Фактор duration не имеет смысла, поскольку он может быть вычислен только к концу звонка, но к концу звонка уже известен наш таргет, потому от этого признака точно надо избавиться."
   ]
  },
  {
   "cell_type": "code",
   "execution_count": 8,
   "metadata": {},
   "outputs": [],
   "source": [
    "y = np.where(df['y'] == 'yes', 1, 0)\n",
    "X = df.drop(columns=['y', 'duration'])\n",
    "X_train, X_test, y_train, y_test = train_test_split(X, y, test_size=1/4, random_state=777, stratify=y)"
   ]
  },
  {
   "cell_type": "markdown",
   "metadata": {},
   "source": [
    "Закодируйте категориальные признаки с помощью `OrdinalEncoder`. Посчитайте качество (в этом задании будем работать c `AUC-PR`) при применении логистической регрессии. Замерьте время, потребовавшееся на обучение модели (с учетом кодирования признаков).\n",
    "\n",
    "__Вопрос__: почему в данном задании мы выбрали метрикой именно `AUC-PR`, а не, к примеру, `AUC-ROC`?\n",
    "\n",
    "__Ваш ответ__: для компании гораздо более интересно, чтобы классификатор корректно вел себя с положительный классом, поскольку компания получает деньги за выданные депозиты. В таком случае для оценки моделей лучше использовать PR кривую вместо ROC. "
   ]
  },
  {
   "cell_type": "code",
   "execution_count": 10,
   "metadata": {},
   "outputs": [],
   "source": [
    "# Исходя из источника https://archive.ics.|uci.edu/ml/datasets/bank+marketing\n",
    "numeric_features = ['age', 'campaign', 'pdays', 'previous', 'emp.var.rate', 'cons.price.idx', 'cons.conf.idx', 'euribor3m', 'nr.employed']\n",
    "categorical_features = ['job', 'marital', 'education', 'default', 'housing', 'loan', 'contact', 'month', 'day_of_week', 'poutcome']"
   ]
  },
  {
   "cell_type": "code",
   "execution_count": 213,
   "metadata": {},
   "outputs": [],
   "source": [
    "from sklearn.compose import ColumnTransformer\n",
    "from sklearn.preprocessing import OrdinalEncoder, OneHotEncoder\n",
    "\n",
    "\n",
    "column_transformer = ColumnTransformer([\n",
    "    ('encoding', OrdinalEncoder(), categorical_features),\n",
    "])\n",
    "\n",
    "logreg = Pipeline([\n",
    "    ('transform', column_transformer),\n",
    "    ('scaling', StandardScaler()),\n",
    "    ('logreg', LogisticRegression(penalty='l2'))\n",
    "])"
   ]
  },
  {
   "cell_type": "code",
   "execution_count": 218,
   "metadata": {},
   "outputs": [
    {
     "name": "stdout",
     "output_type": "stream",
     "text": [
      "Лучшее значение регуляризатора: 1.0\n"
     ]
    }
   ],
   "source": [
    "C_values = np.logspace(-2, 2, 5)\n",
    "param_name = 'logreg__C'\n",
    "search = GridSearchCV(estimator=logreg, param_grid={param_name: C_values}, cv=3)\n",
    "search.fit(X_train, y_train)\n",
    "\n",
    "print('Лучшее значение регуляризатора: ' + str(search.best_params_[param_name]))"
   ]
  },
  {
   "cell_type": "code",
   "execution_count": 221,
   "metadata": {},
   "outputs": [
    {
     "name": "stdout",
     "output_type": "stream",
     "text": [
      "AUC-PR (train) = 0.29162\n",
      "AUC-PR (test) = 0.30722\n"
     ]
    }
   ],
   "source": [
    "best_model = search.best_estimator_\n",
    "prediction_train = best_model.decision_function(X_train)\n",
    "print(\"AUC-PR (train) = \" + str(round(average_precision_score(y_train, prediction_train), 5)))\n",
    "prediction_test = best_model.decision_function(X_test)\n",
    "print(\"AUC-PR (test) = \" + str(round(average_precision_score(y_test, prediction_test), 5)))"
   ]
  },
  {
   "cell_type": "code",
   "execution_count": 220,
   "metadata": {},
   "outputs": [
    {
     "name": "stdout",
     "output_type": "stream",
     "text": [
      "90.4 ms ± 6.07 ms per loop (mean ± std. dev. of 7 runs, 10 loops each)\n"
     ]
    }
   ],
   "source": [
    "%%timeit\n",
    "logreg.fit(X_train, y_train)"
   ]
  },
  {
   "cell_type": "markdown",
   "metadata": {},
   "source": [
    "__Задание 4 (0.5 балла).__ Закодируйте все категориальные признаки с помощью one-hot-кодирования. Обучите логистическую регрессию и посмотрите, как изменилось качество модели (с тем, что было до кодирования). Измерьте время, потребовавшееся на кодирование категориальных признаков и обучение модели.\n",
    "\n"
   ]
  },
  {
   "cell_type": "code",
   "execution_count": 223,
   "metadata": {},
   "outputs": [
    {
     "name": "stdout",
     "output_type": "stream",
     "text": [
      "Лучшее значение регуляризатора: 0.01\n"
     ]
    }
   ],
   "source": [
    "column_transformer = ColumnTransformer([\n",
    "    ('encoding', OneHotEncoder(sparse=False), categorical_features),\n",
    "])\n",
    "\n",
    "logreg = Pipeline([\n",
    "    ('transform', column_transformer),\n",
    "    ('scaling', StandardScaler()),\n",
    "    ('logreg', LogisticRegression(penalty='l2'))\n",
    "])\n",
    "\n",
    "search = GridSearchCV(estimator=logreg, param_grid={param_name: C_values}, cv=3)\n",
    "search.fit(X_train, y_train)\n",
    "\n",
    "print('Лучшее значение регуляризатора: ' + str(search.best_params_[param_name]))"
   ]
  },
  {
   "cell_type": "code",
   "execution_count": 224,
   "metadata": {},
   "outputs": [
    {
     "name": "stdout",
     "output_type": "stream",
     "text": [
      "AUC-PR (train) = 0.39506\n",
      "AUC-PR (test) = 0.40783\n"
     ]
    }
   ],
   "source": [
    "best_model = search.best_estimator_\n",
    "prediction_train = best_model.decision_function(X_train)\n",
    "print(\"AUC-PR (train) = \" + str(round(average_precision_score(y_train, prediction_train), 5)))\n",
    "prediction_test = best_model.decision_function(X_test)\n",
    "print(\"AUC-PR (test) = \" + str(round(average_precision_score(y_test, prediction_test), 5)))"
   ]
  },
  {
   "cell_type": "code",
   "execution_count": 225,
   "metadata": {},
   "outputs": [
    {
     "name": "stdout",
     "output_type": "stream",
     "text": [
      "182 ms ± 8.89 ms per loop (mean ± std. dev. of 7 runs, 1 loop each)\n"
     ]
    }
   ],
   "source": [
    "%%timeit\n",
    "logreg.fit(X_train, y_train)"
   ]
  },
  {
   "cell_type": "markdown",
   "metadata": {},
   "source": [
    "**Вывод**: Качество модели по метрике AUC-PR улучшилось довольно внушительно (практически в полтора раза), но и временные затраты на OHE почти в два раза выше."
   ]
  },
  {
   "cell_type": "markdown",
   "metadata": {},
   "source": [
    "Как можно было заменить, one-hot-кодирование может сильно увеличивать количество признаков в датасете, что сказывается на памяти, особенно, если некоторый признак имеет большое количество значений. Эту проблему решает другой способ кодирования категориальных признаков — счётчики. Основная идея в том, что нам важны не сами категории, а значения целевой переменной, которые имеют объекты этой категории. Каждый категориальный признак мы заменим средним значением целевой переменной по всем объектам этой же категории:\n",
    "$$\n",
    "g_j(x, X) = \\frac{\\sum_{i=1}^{l} [f_j(x) = f_j(x_i)][y_i = +1]}{\\sum_{i=1}^{l} [f_j(x) = f_j(x_i)]}\n",
    "$$\n",
    "\n",
    "__Задание 5 (1 балл).__ Закодируйте категориальные переменные с помощью счётчиков (ровно так, как описано выше без каких-либо хитростей). Обучите логистическую регрессию и посмотрите на качество модели на тестовом множестве. Сравните время обучения с предыдущими экспериментами (с учетом кодирования признаков). Заметили ли вы что-то интересное?\n",
    "\n",
    "\n",
    "__Бонус (1 балл)__: Здесь и далее реализуйте вычисление счетчиков с помощью трансформера (наследуйтесь от классов `BaseEstimator, TransformerMixin` из `sklearn.base`). Обратите внимание, что все вычисления должны быть векторизованными, трансформер не должен модифицировать передаваемую ему выборку inplace, а все необходимые статистики нужно считать только по обучающей выборке в методе `fit`. Ваш трансформер должен принимать при инициализации список из категориальных признаков и изменять только их. \n"
   ]
  },
  {
   "cell_type": "code",
   "execution_count": 229,
   "metadata": {},
   "outputs": [],
   "source": [
    "#your code here\n",
    "from sklearn.base import BaseEstimator, TransformerMixin\n",
    "\n",
    "\n",
    "class CountEncoder (BaseEstimator, TransformerMixin):\n",
    "    def __init__(self, columns):\n",
    "        self.columns = columns\n",
    "        self.global_mean = 0 # значение среднего таргета для того, чтобы заполнять впервые встреченные значения. Аналогично по умолчанию работает тут https://contrib.scikit-learn.org/category_encoders/targetencoder.html\n",
    "        self.values_to_fit = {}\n",
    "        # это словарь значений, которые мы будем вставлять\n",
    "        # первый ключ - название столбца\n",
    "        # второй ключ - одно из возможных категориальных значений в этом столбце\n",
    "        # значение - среднее таргета для второго ключа \n",
    "\n",
    "        \n",
    "    def fit(self, X, y):\n",
    "        for column in self.columns:\n",
    "            self.values_to_fit[column] = {}\n",
    "            for value in X[column].unique():\n",
    "                self.values_to_fit[column][value] = np.mean(y[X[column] == value]) # вычисляем среднее для текущего значения\n",
    "        self.global_mean = np.mean(y)\n",
    "        return self\n",
    "    \n",
    "    def transform(self, X):\n",
    "        X_copied = X.copy()\n",
    "        for column in self.columns:\n",
    "            new_column_name = column + '_encoded'\n",
    "            X_copied.loc[:, new_column_name] = 0\n",
    "            \n",
    "            for value in X_copied[column].unique():\n",
    "                if value in self.values_to_fit[column].keys(): # это значение встретилось в трейне\n",
    "                    X_copied.loc[X_copied[column] == value, new_column_name] = self.values_to_fit[column][value]\n",
    "                else:\n",
    "                    X_copied.loc[X_copied[column] == value, new_column_name] = self.global_mean\n",
    "        \n",
    "        X_return = X_copied.drop(self.columns, axis=1) # убираем исходные столбцы\n",
    "        return X_return"
   ]
  },
  {
   "cell_type": "code",
   "execution_count": 241,
   "metadata": {},
   "outputs": [
    {
     "name": "stdout",
     "output_type": "stream",
     "text": [
      "Лучшее значение регуляризатора: 1.0\n"
     ]
    }
   ],
   "source": [
    "logreg = Pipeline([\n",
    "    ('transform', CountEncoder(categorical_features)),\n",
    "    ('scaling', StandardScaler()),\n",
    "    ('logreg', LogisticRegression(penalty='l2'))\n",
    "])\n",
    "param_name = 'logreg__C'\n",
    "search = GridSearchCV(estimator=logreg, param_grid={param_name: C_values}, cv=3)\n",
    "search.fit(X_train, y_train)\n",
    "\n",
    "print('Лучшее значение регуляризатора: ' + str(search.best_params_[param_name]))"
   ]
  },
  {
   "cell_type": "code",
   "execution_count": 242,
   "metadata": {},
   "outputs": [
    {
     "name": "stdout",
     "output_type": "stream",
     "text": [
      "AUC-PR (train) = 0.44381\n",
      "AUC-PR (test) = 0.44283\n"
     ]
    }
   ],
   "source": [
    "best_model = search.best_estimator_\n",
    "prediction_train = best_model.decision_function(X_train)\n",
    "print(\"AUC-PR (train) = \" + str(round(average_precision_score(y_train, prediction_train), 5)))\n",
    "prediction_test = best_model.decision_function(X_test)\n",
    "print(\"AUC-PR (test) = \" + str(round(average_precision_score(y_test, prediction_test), 5)))"
   ]
  },
  {
   "cell_type": "code",
   "execution_count": 243,
   "metadata": {},
   "outputs": [
    {
     "name": "stdout",
     "output_type": "stream",
     "text": [
      "424 ms ± 23.9 ms per loop (mean ± std. dev. of 7 runs, 1 loop each)\n"
     ]
    }
   ],
   "source": [
    "%%timeit\n",
    "logreg.fit(X_train, y_train)"
   ]
  },
  {
   "cell_type": "markdown",
   "metadata": {},
   "source": [
    "Вновь получили довольно ощутимый прирост в качестве (0.44 вместо 0.4), но и время обучения опять подскочило в два раза. Кроме того, получили просадку качества на тесте, очевидно, потому что счетчики ведут к переобучению нашей модели"
   ]
  },
  {
   "cell_type": "markdown",
   "metadata": {},
   "source": [
    "Отметим, что такие признаки сами по себе являются классификаторами и, обучаясь на них, мы допускаем \"утечку\" целевой переменной в признаки. Это ведёт к переобучению, поэтому считать такие признаки необходимо таким образом, чтобы при вычислении для конкретного объекта его целевая метка не использовалась. Это можно делать следующими способами:\n",
    "1. Вычислять значение счётчика по всем объектам расположенным выше в датасете (например, если у нас выборка отсортирована по времени).\n",
    "2. Вычислять по фолдам, то есть делить выборку на некоторое количество частей и подсчитывать значение признаков по всем фолдам кроме текущего (как делается в кросс-валидации).\n",
    "3. Внесение некоторого шума в посчитанные признаки. \n",
    "\n",
    "__Задание 6.__ Реализуйте корректное вычисление счётчиков самым простым способом — добавление шума к значениям (постарайтесь найти баланс между борьбой с переобучением и сохранением полезности признаков). Снова обучите логистическую регрессию, оцените качество. Сделайте выводы.\n",
    "\n",
    "__(0.5 балла)__"
   ]
  },
  {
   "cell_type": "code",
   "execution_count": 247,
   "metadata": {},
   "outputs": [],
   "source": [
    "#your code here\n",
    "from sklearn.base import BaseEstimator, TransformerMixin\n",
    "\n",
    "\n",
    "class CountEncoder (BaseEstimator, TransformerMixin):\n",
    "    def __init__(self, columns, noise_dev=0):\n",
    "        self.columns = columns\n",
    "        self.global_mean = 0 # значение среднего таргета для того, чтобы заполнять впервые встреченные значения. Аналогично по умолчанию работает тут https://contrib.scikit-learn.org/category_encoders/targetencoder.html\n",
    "        self.noise_dev = noise_dev # отклонение для добавления шума из нормального распределения\n",
    "        self.values_to_fit = {}\n",
    "        # это словарь значений, которые мы будем вставлять\n",
    "        # первый ключ - название столбца\n",
    "        # второй ключ - одно из возможных категориальных значений в этом столбце\n",
    "        # значение - среднее таргета для второго ключа \n",
    "\n",
    "        \n",
    "    def fit(self, X, y):\n",
    "        for column in self.columns:\n",
    "            self.values_to_fit[column] = {}\n",
    "            for value in X[column].unique():\n",
    "                self.values_to_fit[column][value] = np.mean(y[X[column] == value]) # вычисляем среднее для текущего значения\n",
    "        self.global_mean = np.mean(y)\n",
    "        return self\n",
    "    \n",
    "    def transform(self, X):\n",
    "        X_copied = X.copy()\n",
    "        for column in self.columns:\n",
    "            new_column_name = column + '_encoded'\n",
    "            X_copied.loc[:, new_column_name] = 0\n",
    "            \n",
    "            for value in X_copied[column].unique():\n",
    "                if value in self.values_to_fit[column].keys(): # это значение встретилось в трейне\n",
    "                    X_copied.loc[X_copied[column] == value, new_column_name] = self.values_to_fit[column][value]\n",
    "                else:\n",
    "                    X_copied.loc[X_copied[column] == value, new_column_name] = self.global_mean\n",
    "                X_copied.loc[:, new_column_name] += np.random.normal(0, self.noise_dev, X.shape[0])                    \n",
    "        X_return = X_copied.drop(self.columns, axis=1) # убираем исходные столбцы\n",
    "        return X_return"
   ]
  },
  {
   "cell_type": "code",
   "execution_count": 248,
   "metadata": {},
   "outputs": [
    {
     "name": "stdout",
     "output_type": "stream",
     "text": [
      "Лучшее значение регуляризатора: 100.0\n",
      "Лучшее значение шума: 10.0\n"
     ]
    }
   ],
   "source": [
    "logreg = Pipeline([\n",
    "    ('transform', CountEncoder(categorical_features)),\n",
    "    ('scaling', StandardScaler()),\n",
    "    ('logreg', LogisticRegression(penalty='l2'))\n",
    "])\n",
    "C_values = np.logspace(-2, 2, 5)\n",
    "noise_values = np.logspace(-2, 2, 5)\n",
    "C_param_name = 'logreg__C'\n",
    "noise_param_name = 'transform__noise_dev'\n",
    "search = GridSearchCV(estimator=logreg, param_grid={C_param_name: C_values, noise_param_name: noise_values}, cv=3)\n",
    "search.fit(X_train, y_train)\n",
    "print('Лучшее значение регуляризатора: ' + str(search.best_params_[C_param_name]))\n",
    "print('Лучшее значение шума: ' + str(search.best_params_[noise_param_name]))"
   ]
  },
  {
   "cell_type": "code",
   "execution_count": 249,
   "metadata": {},
   "outputs": [
    {
     "name": "stdout",
     "output_type": "stream",
     "text": [
      "AUC-PR (train) = 0.41888\n",
      "AUC-PR (test) = 0.42323\n"
     ]
    }
   ],
   "source": [
    "best_model = search.best_estimator_\n",
    "prediction_train = best_model.decision_function(X_train)\n",
    "print(\"AUC-PR (train) = \" + str(round(average_precision_score(y_train, prediction_train), 5)))\n",
    "prediction_test = best_model.decision_function(X_test)\n",
    "print(\"AUC-PR (test) = \" + str(round(average_precision_score(y_test, prediction_test), 5)))"
   ]
  },
  {
   "cell_type": "markdown",
   "metadata": {},
   "source": [
    "Качество на трейне, очевидно, упало, зато теперь оно не падает относительно трейна на тесте. Делаем вывод, что модель теперь меньше переобучается, что и было нашей целью"
   ]
  },
  {
   "cell_type": "markdown",
   "metadata": {},
   "source": [
    "__(Бонусная часть, 0.5 балла)__ Посчитайте корректные счётчики первым или вторым способов из описанных выше (не забудьте добавить и шум). \n",
    "\n"
   ]
  },
  {
   "cell_type": "code",
   "execution_count": 11,
   "metadata": {},
   "outputs": [],
   "source": [
    "#Попробуем вычислять значения при помощи кросс-валидации\n",
    "from sklearn.model_selection import KFold\n",
    "from sklearn.base import BaseEstimator, TransformerMixin\n",
    "from sklearn.linear_model import LogisticRegression\n",
    "\n",
    "\n",
    "\n",
    "class CountEncoder (BaseEstimator, TransformerMixin):\n",
    "    def __init__(self, columns, noise_dev=0, cv=3):\n",
    "        self.columns = columns\n",
    "        self.global_mean = 0 # значение среднего таргета для того, чтобы заполнять впервые встреченные значения. Аналогично по умолчанию работает тут https://contrib.scikit-learn.org/category_encoders/targetencoder.html\n",
    "        self.noise_dev = noise_dev # отклонение для добавления шума из нормального распределения\n",
    "        self.cv = cv # количество фолдов\n",
    "\n",
    "        \n",
    "    def fit(self, X, y): # в данном случае не получится разделить процесс генерации значений и их замены, поэтому fit будет иметь довольно формальный характер \n",
    "        self.y = y\n",
    "        self.global_mean = np.mean(y)\n",
    "        return self\n",
    "    \n",
    "    def transform(self, X):\n",
    "        X_copied = X.copy()\n",
    "        index_generator = KFold(self.cv)\n",
    "        initial_features_count = X.shape[1] # для того, чтобы добавлять столбцы при помощи iloc\n",
    "        for i in range(len(self.columns)):\n",
    "            new_column_name = self.columns[i] + '_encoded'\n",
    "            X_copied.loc[:, new_column_name] = 0\n",
    "            for train_idx, test_idx in index_generator.split(X_copied):                \n",
    "                X_train = X_copied.iloc[train_idx, i]\n",
    "                y_train = self.y[train_idx]\n",
    "                X_test = X_copied.iloc[test_idx, i]\n",
    "                y_test = self.y[test_idx]\n",
    "                \n",
    "                encoded_values = {} # Словарь значений для подстановки. Далее будет заполнен на основе трейна\n",
    "                # Получим средние значения на трейне:\n",
    "                for value in X_train.unique():\n",
    "                    encoded_values[value] = np.mean(y_train[X_train == value])\n",
    "                    \n",
    "                for value in X_test.unique():\n",
    "                    if value in encoded_values.keys(): # это значение встретилось в трейне (всех фолдах кроме текущего)\n",
    "                        X_copied.loc[X_copied[self.columns[i]] == value, new_column_name] = encoded_values[value]\n",
    "                    else:\n",
    "                        X_copied.loc[X_copied[self.columns[i]] == value, new_column_name] = self.global_mean\n",
    "                    X_copied.loc[:, new_column_name] += np.random.normal(0, self.noise_dev, X.shape[0])\n",
    "                    \n",
    "        X_return = X_copied.drop(self.columns, axis=1) # убираем исходные столбцы\n",
    "        print(\"Transformed\")\n",
    "        return X_return"
   ]
  },
  {
   "cell_type": "code",
   "execution_count": 12,
   "metadata": {},
   "outputs": [
    {
     "name": "stdout",
     "output_type": "stream",
     "text": [
      "Transformed\n"
     ]
    },
    {
     "data": {
      "text/plain": [
       "Pipeline(steps=[('transform',\n",
       "                 CountEncoder(columns=['job', 'marital', 'education', 'default',\n",
       "                                       'housing', 'loan', 'contact', 'month',\n",
       "                                       'day_of_week', 'poutcome'])),\n",
       "                ('scaling', StandardScaler()),\n",
       "                ('logreg', LogisticRegression())])"
      ]
     },
     "execution_count": 12,
     "metadata": {},
     "output_type": "execute_result"
    }
   ],
   "source": [
    "logreg = Pipeline([\n",
    "    ('transform', CountEncoder(categorical_features)),\n",
    "    ('scaling', StandardScaler()),\n",
    "    ('logreg', LogisticRegression(penalty='l2'))\n",
    "])\n",
    "logreg.fit(X_train, y_train)"
   ]
  },
  {
   "cell_type": "code",
   "execution_count": 15,
   "metadata": {},
   "outputs": [
    {
     "name": "stdout",
     "output_type": "stream",
     "text": [
      "Transformed\n",
      "AUC-PR (train) = 0.42128\n",
      "Transformed\n",
      "AUC-PR (test) = 0.42631\n"
     ]
    }
   ],
   "source": [
    "prediction_train = logreg.decision_function(X_train)\n",
    "print(\"AUC-PR (train) = \" + str(round(average_precision_score(y_train, prediction_train), 5)))\n",
    "prediction_test = logreg.decision_function(X_test)\n",
    "print(\"AUC-PR (test) = \" + str(round(average_precision_score(y_test, prediction_test), 5)))"
   ]
  },
  {
   "cell_type": "markdown",
   "metadata": {},
   "source": [
    "Значения AUC-PR метрик для трейна и теста увеличились, но незначительно, и это явно не стоит потрачнного на расчеты время (время обучения увеличилось кратно)"
   ]
  },
  {
   "cell_type": "markdown",
   "metadata": {},
   "source": [
    "А теперь ответьте на следующий вопрос: что будет, если некоторая категория встречается в выборке всего несколько раз? По этой причине производится сглаживание счётчиков. Например, на практике хорошие результаты показывает использование сглаживания средним по всей выборке:\n",
    "$$\n",
    "g_j(x, X) = \\frac{\\sum_{i=1}^{\\ell} [f_j(x) = f_j(x_i)][y_i = +1] + C \\times global\\_mean}{\\sum_{i=1}^{\\ell} [f_j(x) = f_j(x_i)] + C}\n",
    "$$\n",
    "где $global\\_mean$ — доля объектов положительного класса в выборке, $C$ — параметр, определяющий степень сглаживания (например, можно использовать 10 или подобрать для каждого признака свой). Основная идея в том, что мы \"разбавляем\" среднее значение по некоторой категории глобальным средним значением. И тем меньше, чем большее количество объектов этой категории встречается в выборке. \n",
    "\n",
    "Однако для сглаживания вместо среднего значения целевой переменной можно использовать любое другое значение от 0 до 1 (этот параметр иногда называют $prior$). Можно сделать несколько признаков с разными значениями параметра. На практике в задачах бинарной классификации полезными бывают даже отрицательные значения!\n"
   ]
  },
  {
   "cell_type": "markdown",
   "metadata": {},
   "source": [
    "__Задание 7 (1 балл).__ Добавьте сглаживание, описанное выше и повторите эксперименты."
   ]
  },
  {
   "cell_type": "code",
   "execution_count": 18,
   "metadata": {},
   "outputs": [],
   "source": [
    "#your code here\n",
    "#your code here\n",
    "from sklearn.base import BaseEstimator, TransformerMixin\n",
    "\n",
    "\n",
    "class CountEncoder (BaseEstimator, TransformerMixin):\n",
    "    def __init__(self, columns, noise_dev=0, C=1):\n",
    "        self.columns = columns\n",
    "        self.global_mean = 0 # значение среднего таргета для того, чтобы заполнять впервые встреченные значения. Аналогично по умолчанию работает тут https://contrib.scikit-learn.org/category_encoders/targetencoder.html\n",
    "        self.noise_dev = noise_dev # отклонение для добавления шума из нормального распределения\n",
    "        self.C = C # коэффицент сглаживания\n",
    "        self.values_to_fit = {}\n",
    "        # это словарь значений, которые мы будем вставлять\n",
    "        # первый ключ - название столбца\n",
    "        # второй ключ - одно из возможных категориальных значений в этом столбце\n",
    "        # значение - среднее таргета для второго ключа \n",
    "\n",
    "        \n",
    "    def fit(self, X, y):\n",
    "        self.global_mean = np.mean(y)\n",
    "        for column in self.columns:\n",
    "            self.values_to_fit[column] = {}\n",
    "            for value in X[column].unique():\n",
    "                self.values_to_fit[column][value] =  (np.sum(y[X[column] == value]) + self.C * self.global_mean) / (y[X[column] == value].shape[0] + self.C)\n",
    "        return self\n",
    "    \n",
    "    def transform(self, X):\n",
    "        X_copied = X.copy()\n",
    "        for column in self.columns:\n",
    "            new_column_name = column + '_encoded'\n",
    "            X_copied.loc[:, new_column_name] = 0\n",
    "            \n",
    "            for value in X_copied[column].unique():\n",
    "                if value in self.values_to_fit[column].keys(): # это значение встретилось в трейне\n",
    "                    X_copied.loc[X_copied[column] == value, new_column_name] = self.values_to_fit[column][value]\n",
    "                else:\n",
    "                    X_copied.loc[X_copied[column] == value, new_column_name] = self.global_mean\n",
    "                X_copied.loc[:, new_column_name] += np.random.normal(0, self.noise_dev, X.shape[0])                    \n",
    "        X_return = X_copied.drop(self.columns, axis=1) # убираем исходные столбцы\n",
    "        return X_return"
   ]
  },
  {
   "cell_type": "code",
   "execution_count": 20,
   "metadata": {},
   "outputs": [
    {
     "name": "stdout",
     "output_type": "stream",
     "text": [
      "Лучшее значение регуляризатора: 100.0\n",
      "Лучшее значение шума: 1.0\n",
      "Лучшее значение коэффициента сглаживания: 1.0\n"
     ]
    }
   ],
   "source": [
    "logreg = Pipeline([\n",
    "    ('transform', CountEncoder(categorical_features)),\n",
    "    ('scaling', StandardScaler()),\n",
    "    ('logreg', LogisticRegression(penalty='l2'))\n",
    "])\n",
    "C_values = np.logspace(-2, 2, 3)\n",
    "noise_values = np.logspace(-2, 2, 3)\n",
    "C_smoothing_values = np.logspace(-2, 2, 3)\n",
    "C_param_name = 'logreg__C'\n",
    "noise_param_name = 'transform__noise_dev'\n",
    "C_smoothing_param_name = 'transform__C'\n",
    "search = GridSearchCV(estimator=logreg, param_grid={C_param_name: C_values, noise_param_name: noise_values, C_smoothing_param_name: C_smoothing_values}, cv=3)\n",
    "search.fit(X_train, y_train)\n",
    "print('Лучшее значение регуляризатора: ' + str(search.best_params_[C_param_name]))\n",
    "print('Лучшее значение шума: ' + str(search.best_params_[noise_param_name]))\n",
    "print('Лучшее значение коэффициента сглаживания: ' + str(search.best_params_[C_smoothing_param_name]))"
   ]
  },
  {
   "cell_type": "code",
   "execution_count": 21,
   "metadata": {},
   "outputs": [
    {
     "name": "stdout",
     "output_type": "stream",
     "text": [
      "AUC-PR (train) = 0.41847\n",
      "AUC-PR (test) = 0.42506\n"
     ]
    }
   ],
   "source": [
    "best_model = search.best_estimator_\n",
    "prediction_train = best_model.decision_function(X_train)\n",
    "print(\"AUC-PR (train) = \" + str(round(average_precision_score(y_train, prediction_train), 5)))\n",
    "prediction_test = best_model.decision_function(X_test)\n",
    "print(\"AUC-PR (test) = \" + str(round(average_precision_score(y_test, prediction_test), 5)))"
   ]
  },
  {
   "cell_type": "markdown",
   "metadata": {},
   "source": [
    "Значение метрики AUC-PR незначительно улучшилось, но, возможно, потенциала у метода гораздо больше, но параметры необходимо подбирать более внимательно (GridSearchCV для трех параметров работает уже слишком долго)"
   ]
  },
  {
   "cell_type": "markdown",
   "metadata": {},
   "source": [
    "__Задание 8 (0.5 балла).__ В данных имеется признак \"возраст клиента\". Сейчас мы интерпретируем его как числовой, что в общем случае для линейной модели может быть неверной гипотезой. Тем не менее, у этого признака есть довольно много уникальных значений (сколько?), поэтому применять к нему one-hot кодирование может оказаться излишним. Попробуйте закодировать возраст с помощью счетчиков. Стало ли лучше?\n",
    "\n"
   ]
  },
  {
   "cell_type": "code",
   "execution_count": 29,
   "metadata": {},
   "outputs": [
    {
     "name": "stdout",
     "output_type": "stream",
     "text": [
      "Уникальных значений возраста: 78\n"
     ]
    }
   ],
   "source": [
    "print(\"Уникальных значений возраста: \" + str(X['age'].unique().shape[0]))"
   ]
  },
  {
   "cell_type": "code",
   "execution_count": 23,
   "metadata": {},
   "outputs": [],
   "source": [
    "#your code here\n",
    "numeric_features = ['campaign', 'pdays', 'previous', 'emp.var.rate', 'cons.price.idx', 'cons.conf.idx', 'euribor3m', 'nr.employed']\n",
    "categorical_features = ['age', 'job', 'marital', 'education', 'default', 'housing', 'loan', 'contact', 'month', 'day_of_week', 'poutcome']"
   ]
  },
  {
   "cell_type": "code",
   "execution_count": 24,
   "metadata": {},
   "outputs": [
    {
     "name": "stdout",
     "output_type": "stream",
     "text": [
      "Лучшее значение регуляризатора: 0.01\n",
      "Лучшее значение шума: 100.0\n",
      "Лучшее значение коэффициента сглаживания: 100.0\n"
     ]
    }
   ],
   "source": [
    "logreg = Pipeline([\n",
    "    ('transform', CountEncoder(categorical_features)),\n",
    "    ('scaling', StandardScaler()),\n",
    "    ('logreg', LogisticRegression(penalty='l2'))\n",
    "])\n",
    "C_values = np.logspace(-2, 2, 3)\n",
    "noise_values = np.logspace(-2, 2, 3)\n",
    "C_smoothing_values = np.logspace(-2, 2, 3)\n",
    "C_param_name = 'logreg__C'\n",
    "noise_param_name = 'transform__noise_dev'\n",
    "C_smoothing_param_name = 'transform__C'\n",
    "search = GridSearchCV(estimator=logreg, param_grid={C_param_name: C_values, noise_param_name: noise_values, C_smoothing_param_name: C_smoothing_values}, cv=3)\n",
    "search.fit(X_train, y_train)\n",
    "print('Лучшее значение регуляризатора: ' + str(search.best_params_[C_param_name]))\n",
    "print('Лучшее значение шума: ' + str(search.best_params_[noise_param_name]))\n",
    "print('Лучшее значение коэффициента сглаживания: ' + str(search.best_params_[C_smoothing_param_name]))"
   ]
  },
  {
   "cell_type": "code",
   "execution_count": 25,
   "metadata": {},
   "outputs": [
    {
     "name": "stdout",
     "output_type": "stream",
     "text": [
      "AUC-PR (train) = 0.41355\n",
      "AUC-PR (test) = 0.42754\n"
     ]
    }
   ],
   "source": [
    "best_model = search.best_estimator_\n",
    "prediction_train = best_model.decision_function(X_train)\n",
    "print(\"AUC-PR (train) = \" + str(round(average_precision_score(y_train, prediction_train), 5)))\n",
    "prediction_test = best_model.decision_function(X_test)\n",
    "print(\"AUC-PR (test) = \" + str(round(average_precision_score(y_test, prediction_test), 5)))"
   ]
  },
  {
   "cell_type": "markdown",
   "metadata": {},
   "source": [
    "На трейне метрика стала хуже, на тесте - ощутимо лучше. Однозначных выводов в текущей ситуации сделать нельзя, в целом, обе модели примерно идентичны."
   ]
  },
  {
   "cell_type": "markdown",
   "metadata": {},
   "source": [
    "Можно пойти и в обратную сторону. У нас есть признаки \"месяц и день недели\" для звонка. Попробуйте интерпретировать их как числовые (месяц от 0 до 12, дни недели от 0 до 4). Стало ли лучше в этот раз?"
   ]
  },
  {
   "cell_type": "code",
   "execution_count": 10,
   "metadata": {},
   "outputs": [],
   "source": [
    "dow_map = {\n",
    "    'mon' : 0,\n",
    "    'tue': 1,\n",
    "    'wed': 2,\n",
    "    'thu': 3,\n",
    "    'fri': 4\n",
    "}\n",
    "month_map = {\n",
    "    'mar': 0,\n",
    "    'apr': 1,\n",
    "    'may': 2,\n",
    "    'jun': 3,\n",
    "    'jul': 4,\n",
    "    'aug': 5,\n",
    "    'sep': 6,\n",
    "    'oct': 7,\n",
    "    'nov': 8,\n",
    "    'dec': 9\n",
    "}\n",
    "\n",
    "X = X.replace(month_map)\n",
    "X = X.replace(dow_map)\n",
    "X_train, X_test, y_train, y_test = train_test_split(X, y, test_size=1/4, random_state=777, stratify=y)"
   ]
  },
  {
   "cell_type": "code",
   "execution_count": 43,
   "metadata": {},
   "outputs": [],
   "source": [
    "#your code here\n",
    "numeric_features = ['age', 'campaign', 'pdays', 'previous', 'emp.var.rate', 'cons.price.idx', 'cons.conf.idx', 'euribor3m', 'nr.employed', 'day_of_week', 'month']\n",
    "categorical_features = ['job', 'marital', 'education', 'default', 'housing', 'loan', 'contact', 'poutcome']"
   ]
  },
  {
   "cell_type": "code",
   "execution_count": 44,
   "metadata": {},
   "outputs": [
    {
     "name": "stdout",
     "output_type": "stream",
     "text": [
      "Лучшее значение регуляризатора: 1.0\n",
      "Лучшее значение шума: 0.01\n",
      "Лучшее значение коэффициента сглаживания: 100.0\n"
     ]
    }
   ],
   "source": [
    "logreg = Pipeline([\n",
    "    ('transform', CountEncoder(categorical_features)),\n",
    "    ('scaling', StandardScaler()),\n",
    "    ('logreg', LogisticRegression(penalty='l2'))\n",
    "])\n",
    "C_values = np.logspace(-2, 2, 3)\n",
    "noise_values = np.logspace(-2, 2, 3)\n",
    "C_smoothing_values = np.logspace(-2, 2, 3)\n",
    "C_param_name = 'logreg__C'\n",
    "noise_param_name = 'transform__noise_dev'\n",
    "C_smoothing_param_name = 'transform__C'\n",
    "search = GridSearchCV(estimator=logreg, param_grid={C_param_name: C_values, noise_param_name: noise_values, C_smoothing_param_name: C_smoothing_values}, cv=3)\n",
    "search.fit(X_train, y_train)\n",
    "print('Лучшее значение регуляризатора: ' + str(search.best_params_[C_param_name]))\n",
    "print('Лучшее значение шума: ' + str(search.best_params_[noise_param_name]))\n",
    "print('Лучшее значение коэффициента сглаживания: ' + str(search.best_params_[C_smoothing_param_name]))"
   ]
  },
  {
   "cell_type": "code",
   "execution_count": 46,
   "metadata": {},
   "outputs": [
    {
     "name": "stdout",
     "output_type": "stream",
     "text": [
      "AUC-PR (train) = 0.43727\n",
      "AUC-PR (test) = 0.43412\n"
     ]
    }
   ],
   "source": [
    "best_model = search.best_estimator_\n",
    "prediction_train = best_model.decision_function(X_train)\n",
    "print(\"AUC-PR (train) = \" + str(round(average_precision_score(y_train, prediction_train), 5)))\n",
    "prediction_test = best_model.decision_function(X_test)\n",
    "print(\"AUC-PR (test) = \" + str(round(average_precision_score(y_test, prediction_test), 5)))"
   ]
  },
  {
   "cell_type": "markdown",
   "metadata": {},
   "source": [
    "Использование дня недели и месяца в качестве числового признака внезапно дало довольно ощутимый прирост как на трейне, так и на тесте. При этом видно, что качество падает на тесте относительно трейна, делаем вывод, что, скорее всего, произошел оверфит"
   ]
  },
  {
   "cell_type": "markdown",
   "metadata": {},
   "source": [
    "__Замечание.__ Усложнение методов вычисления счётчиков не делают результаты модели гарантированно лучше. Особенно с учётом того, что логистическая регрессия не такая сложная модель, чтобы переобучаться. Поэтому вы необязательно должны были получать на каждом шаге всё лучшие и лучшие результаты (но необходимые результаты у вас должны были получиться).\n",
    "\n",
    "Как вы должны были заметить, счётчики являются хорошей альтернативой one-hot-кодированию. Напишите, какие плюсы и минусы использования счётчиков по сравнению с one-hot-кодированием вы заметили.\n",
    "\n",
    "__Ответ:__ Как мы уже увидели, счётчики очень легко оверфитятся, поэтому использовать их нужно очень внимательно, это их очевидный минус. Ну а плюс так же очевиден - ohe увеличивает количество признаков очень существенно, в то время как счетчики сохраняют размерность выборки, что прямо влияет на скорость обучения"
   ]
  },
  {
   "cell_type": "markdown",
   "metadata": {},
   "source": [
    "# Часть 2. Отбор признаков"
   ]
  },
  {
   "cell_type": "markdown",
   "metadata": {},
   "source": [
    "Важной частью процесса построения модели является отбор признаков. На практике многие признаки оказывают малое влияние на модель (при этом их расчёт занимает время) или даже негативно сказываются на качестве модели. Попробуем несколько подходов отбора признаков, оценим, как они влияют на качество модели и сколько времени занимают.\n",
    "\n",
    "Обратимся к тому же датасету про банковский телефонный маркетинг."
   ]
  },
  {
   "cell_type": "code",
   "execution_count": 11,
   "metadata": {},
   "outputs": [],
   "source": [
    "df = pd.read_csv('bank-additional/bank-additional-full.csv', sep=';')\n",
    "\n",
    "X = df.drop(columns=['duration', 'y'])\n",
    "y = (df.y == 'yes')\n",
    "\n",
    "X_train, X_test, y_train, y_test = train_test_split(X, y, test_size=0.2, random_state=777, stratify=y)"
   ]
  },
  {
   "cell_type": "markdown",
   "metadata": {},
   "source": [
    "Как вы помните, в данных много категориальных признаков (сейчас давайте интерпретировать возраст как числовой). Давайте закодируем их с помощью one-hot кодирования. Исходные колонки с категориальными признаками можно удалить. Сколько признаков мы получили?"
   ]
  },
  {
   "cell_type": "code",
   "execution_count": 12,
   "metadata": {},
   "outputs": [],
   "source": [
    "#your code here\n",
    "numeric_features = ['age', 'campaign', 'pdays', 'previous', 'emp.var.rate', 'cons.price.idx', 'cons.conf.idx', 'euribor3m', 'nr.employed']\n",
    "categorical_features = ['job', 'marital', 'education', 'default', 'housing', 'loan', 'contact', 'poutcome', 'day_of_week', 'month']"
   ]
  },
  {
   "cell_type": "code",
   "execution_count": 13,
   "metadata": {},
   "outputs": [],
   "source": [
    "X = X.replace(month_map)\n",
    "X = X.replace(dow_map)\n",
    "X_train, X_test, y_train, y_test = train_test_split(X, y, test_size=1/4, random_state=777, stratify=y)"
   ]
  },
  {
   "cell_type": "code",
   "execution_count": 197,
   "metadata": {},
   "outputs": [
    {
     "name": "stdout",
     "output_type": "stream",
     "text": [
      "До кодирования: 19\n",
      "После OHE: 62\n"
     ]
    }
   ],
   "source": [
    "column_transformer = ColumnTransformer([\n",
    "    ('ohe', OneHotEncoder(handle_unknown=\"ignore\", sparse=False), categorical_features),\n",
    "    ('scaling', StandardScaler(), numeric_features)\n",
    "])\n",
    "features_before = X.shape[1]\n",
    "X_encoded = column_transformer.fit_transform(X, y)\n",
    "features_after = X_encoded.shape[1]\n",
    "print('До кодирования: ' + str(features_before))\n",
    "print('После OHE: ' + str(features_after))"
   ]
  },
  {
   "cell_type": "markdown",
   "metadata": {},
   "source": [
    "В качестве основной модели будем использовать логистическую регрессию, а целевой метрики — `AUC-PR`. Обучите модель и посчитайте качество на тестовой выборке. Давайте запомним полученное значение."
   ]
  },
  {
   "cell_type": "code",
   "execution_count": 70,
   "metadata": {},
   "outputs": [],
   "source": [
    "#your code here\n",
    "logreg = Pipeline([\n",
    "    ('ohe_and_scaling', column_transformer),\n",
    "    ('logreg', LogisticRegression(penalty='l2', max_iter=500))\n",
    "])\n",
    "C_param_name = 'logreg__C'\n",
    "C_values = np.logspace(-2, 2, 5)\n",
    "search = GridSearchCV(logreg, {C_param_name: C_values}, cv=5)\n",
    "model = search.fit(X_train, y_train)"
   ]
  },
  {
   "cell_type": "code",
   "execution_count": 71,
   "metadata": {},
   "outputs": [
    {
     "name": "stdout",
     "output_type": "stream",
     "text": [
      "Лучшее значение регуляризатора: 0.1\n",
      "AUC-PR (train) = 0.45733\n",
      "AUC-PR (test) = 0.44995\n"
     ]
    }
   ],
   "source": [
    "print('Лучшее значение регуляризатора: ' + str(search.best_params_[C_param_name]))\n",
    "best_model = search.best_estimator_\n",
    "prediction_train = best_model.decision_function(X_train)\n",
    "print(\"AUC-PR (train) = \" + str(round(average_precision_score(y_train, prediction_train), 5)))\n",
    "prediction_test = best_model.decision_function(X_test)\n",
    "print(\"AUC-PR (test) = \" + str(round(average_precision_score(y_test, prediction_test), 5)))"
   ]
  },
  {
   "cell_type": "markdown",
   "metadata": {},
   "source": [
    "### Встроенные методы"
   ]
  },
  {
   "cell_type": "markdown",
   "metadata": {},
   "source": [
    "Допустим, мы хотим оставить только 40 лучших признаков. Попробуем сделать это несколькими способами.\n",
    "\n",
    "Начнём с отборам признаков с помощью линейной модели. Как известно, веса линейной модели означают вклад каждого признака в предсказание модели, а значит, модуль этого вклада можно интерпретировать как важность признаков. Такой метод отбора называются встроенным или embedded methods, так как он заложен в особенности модели.\n",
    "\n",
    "__Задание 8 (0.5 балла).__ Оставьте 40 признаков с наибольшим модулем соответствующего параметра линейной модели. Обучите модели заново и оцените её качество. Замерьте скорость такого отбора признаков.\n",
    "\n",
    "Изменилось ли качество? Как?\n",
    "\n"
   ]
  },
  {
   "cell_type": "code",
   "execution_count": 250,
   "metadata": {},
   "outputs": [],
   "source": [
    "def get_optimal_weights_full(X, y):\n",
    "    column_transformer = ColumnTransformer(\n",
    "    [\n",
    "        ('ohe', OneHotEncoder(handle_unknown=\"ignore\", sparse=False), categorical_features), \n",
    "        ('scaling', StandardScaler(), numeric_features)\n",
    "    ])\n",
    "    logreg = Pipeline([\n",
    "    ('ohe_and_scaling', column_transformer),\n",
    "    ('logreg', LogisticRegression(penalty='l2', max_iter=500))\n",
    "    ])\n",
    "    model = logreg.fit(X_train, y_train)\n",
    "    weights = model[1].coef_[0]\n",
    "    return weights"
   ]
  },
  {
   "cell_type": "code",
   "execution_count": 235,
   "metadata": {},
   "outputs": [],
   "source": [
    "def get_best_features(X, weights):\n",
    "    n = 40\n",
    "    threshold = sorted(np.abs(weights), reverse=True)[n] # находим порог самого \"слабого\" признака, начиная с которого будем убирать признаки\n",
    "    idx = np.where(abs(weights) > threshold)[0] # индексы наиболее значимых весов\n",
    "    return X[:, idx]"
   ]
  },
  {
   "cell_type": "code",
   "execution_count": 251,
   "metadata": {},
   "outputs": [],
   "source": [
    "best_weights_scale = get_optimal_weights_full(X_train, y_train)"
   ]
  },
  {
   "cell_type": "code",
   "execution_count": 252,
   "metadata": {},
   "outputs": [],
   "source": [
    "X_train_encoded = column_transformer.transform(X_train)\n",
    "X_test_encoded = column_transformer.transform(X_test)\n",
    "best_features_train = get_best_features(X_train_encoded, best_weights_scale)\n",
    "best_features_test = get_best_features(X_test_encoded, best_weights_scale)"
   ]
  },
  {
   "cell_type": "code",
   "execution_count": 253,
   "metadata": {},
   "outputs": [],
   "source": [
    "logreg = Pipeline([\n",
    "    ('logreg', LogisticRegression(penalty='l2', max_iter=500))\n",
    "])\n",
    "C_param_name = 'logreg__C'\n",
    "C_values = np.logspace(-2, 2, 5)\n",
    "search = GridSearchCV(logreg, {C_param_name: C_values}, cv=5)\n",
    "model = search.fit(best_features_train, y_train)"
   ]
  },
  {
   "cell_type": "code",
   "execution_count": 254,
   "metadata": {},
   "outputs": [
    {
     "name": "stdout",
     "output_type": "stream",
     "text": [
      "Лучшее значение регуляризатора: 0.01\n",
      "AUC-PR (train) = 0.4427\n",
      "AUC-PR (test) = 0.44166\n"
     ]
    }
   ],
   "source": [
    "print('Лучшее значение регуляризатора: ' + str(search.best_params_[C_param_name]))\n",
    "best_model = search.best_estimator_\n",
    "prediction_train = best_model.decision_function(best_features_train)\n",
    "print(\"AUC-PR (train) = \" + str(round(average_precision_score(y_train, prediction_train), 5)))\n",
    "prediction_test = best_model.decision_function(best_features_test)\n",
    "print(\"AUC-PR (test) = \" + str(round(average_precision_score(y_test, prediction_test), 5)))"
   ]
  },
  {
   "cell_type": "markdown",
   "metadata": {},
   "source": [
    "Модель стала слега хуже, зато теперь метрика не падает на тесте. Оценим время:"
   ]
  },
  {
   "cell_type": "code",
   "execution_count": 255,
   "metadata": {},
   "outputs": [
    {
     "name": "stdout",
     "output_type": "stream",
     "text": [
      "1.33 s ± 94.4 ms per loop (mean ± std. dev. of 7 runs, 1 loop each)\n"
     ]
    }
   ],
   "source": [
    "%%timeit\n",
    "X_test_encoded = column_transformer.transform(X_test) # кодируем признаки (ohe + scaling)\n",
    "best_weights = get_optimal_weights_full(X_train, y_train) # выбираем лучшие веса\n",
    "best_features_test = get_best_features(X_test_encoded, best_weights) # отбираем признаки\n",
    "best_model.fit(best_features_test, y_test)"
   ]
  },
  {
   "cell_type": "markdown",
   "metadata": {},
   "source": [
    "А теперь давайте подумаем, что мы не учли. Мы предположили, что признаки вносят вклад равномерно, но не учли их масштаба. Если мы умножим один из признаков в 100 раз, то без учёта регуляризации его вес уменьшится в эти же 100 раз. А мы на основе этого отбираем признаки! Давайте сначала отмасштабируем признаки одним из способов, а только потом будем удалять признаки. \n",
    "\n",
    "Кстати, в таком случае надо пересчитать качество на всех признаках (сделайте это ниже). Если вы сделали нормирование признаков в самом начале, то попробуйте отобрать признаки на неотмасштабированных данных.\n",
    "\n",
    "Что получилось?"
   ]
  },
  {
   "cell_type": "markdown",
   "metadata": {},
   "source": [
    "Проведем отбор по немасштабированным признакам:"
   ]
  },
  {
   "cell_type": "code",
   "execution_count": 256,
   "metadata": {},
   "outputs": [],
   "source": [
    "#your code here\n",
    "def get_optimal_weights_full(X, y):\n",
    "    column_transformer = ColumnTransformer(\n",
    "    [\n",
    "        ('ohe', OneHotEncoder(handle_unknown=\"ignore\", sparse=False), categorical_features), \n",
    "    ])\n",
    "    logreg = Pipeline([\n",
    "    ('ohe', column_transformer),\n",
    "    ('logreg', LogisticRegression(penalty='l2', max_iter=500))\n",
    "    ])\n",
    "    model = logreg.fit(X_train, y_train)\n",
    "    weights = model[1].coef_[0]\n",
    "    return weights"
   ]
  },
  {
   "cell_type": "code",
   "execution_count": 257,
   "metadata": {},
   "outputs": [],
   "source": [
    "best_weights_no_scale = get_optimal_weights_full(X_train, y_train)\n",
    "X_train_encoded = column_transformer.transform(X_train)\n",
    "X_test_encoded = column_transformer.transform(X_test)\n",
    "best_features_train = get_best_features(X_train_encoded, best_weights_no_scale)\n",
    "best_features_test = get_best_features(X_test_encoded, best_weights_no_scale)"
   ]
  },
  {
   "cell_type": "code",
   "execution_count": 258,
   "metadata": {},
   "outputs": [],
   "source": [
    "logreg = Pipeline([\n",
    "    ('logreg', LogisticRegression(penalty='l2', max_iter=500))\n",
    "])\n",
    "C_param_name = 'logreg__C'\n",
    "C_values = np.logspace(-2, 2, 5)\n",
    "search = GridSearchCV(logreg, {C_param_name: C_values}, cv=5)\n",
    "model = search.fit(best_features_train, y_train)"
   ]
  },
  {
   "cell_type": "code",
   "execution_count": 259,
   "metadata": {},
   "outputs": [
    {
     "name": "stdout",
     "output_type": "stream",
     "text": [
      "Лучшее значение регуляризатора: 0.1\n",
      "AUC-PR (train) = 0.33758\n",
      "AUC-PR (test) = 0.35034\n"
     ]
    }
   ],
   "source": [
    "print('Лучшее значение регуляризатора: ' + str(search.best_params_[C_param_name]))\n",
    "best_model = search.best_estimator_\n",
    "prediction_train = best_model.decision_function(best_features_train)\n",
    "print(\"AUC-PR (train) = \" + str(round(average_precision_score(y_train, prediction_train), 5)))\n",
    "prediction_test = best_model.decision_function(best_features_test)\n",
    "print(\"AUC-PR (test) = \" + str(round(average_precision_score(y_test, prediction_test), 5)))"
   ]
  },
  {
   "cell_type": "markdown",
   "metadata": {},
   "source": [
    "Без скалирования все стало очень печально мо метрикам :("
   ]
  },
  {
   "cell_type": "code",
   "execution_count": 260,
   "metadata": {},
   "outputs": [
    {
     "name": "stdout",
     "output_type": "stream",
     "text": [
      "703 ms ± 60.6 ms per loop (mean ± std. dev. of 7 runs, 1 loop each)\n"
     ]
    }
   ],
   "source": [
    "%%timeit\n",
    "X_test_encoded = column_transformer.transform(X_test) # кодируем признаки (ohe + scaling)\n",
    "best_weights = get_optimal_weights_full(X_train, y_train) # выбираем лучшие веса\n",
    "best_features_test = get_best_features(X_test_encoded, best_weights) # отбираем признаки\n",
    "best_model.fit(best_features_test, y_test)"
   ]
  },
  {
   "cell_type": "markdown",
   "metadata": {},
   "source": [
    "Зато в два раза быстрее обучается :)"
   ]
  },
  {
   "cell_type": "markdown",
   "metadata": {},
   "source": [
    "Вопрос на засыпку: one-hot кодирование возвращает нам единичные признаки-индикаторы. Попробуйте также отскалировать их, как и обычные числовые, и снова выбрать 40 главных по вкладу признаков. Изменился ли их список? Изменится ли качество?"
   ]
  },
  {
   "cell_type": "code",
   "execution_count": 268,
   "metadata": {},
   "outputs": [],
   "source": [
    "#your code here\n",
    "def get_optimal_weights_full(X, y):\n",
    "    column_transformer = ColumnTransformer(\n",
    "    [\n",
    "        ('ohe', OneHotEncoder(handle_unknown=\"ignore\", sparse=False), categorical_features), \n",
    "    ])\n",
    "    logreg = Pipeline([\n",
    "    ('ohe', column_transformer),\n",
    "    ('scaling', StandardScaler()),\n",
    "    ('logreg', LogisticRegression(penalty='l2', max_iter=500))\n",
    "    ])\n",
    "    model = logreg.fit(X_train, y_train)\n",
    "    weights = model[2].coef_[0]\n",
    "    return weights"
   ]
  },
  {
   "cell_type": "code",
   "execution_count": 269,
   "metadata": {},
   "outputs": [],
   "source": [
    "best_weights_scale_ohe = get_optimal_weights_full(X_train, y_train)\n",
    "X_train_encoded = column_transformer.fit_transform(X_train)\n",
    "X_test_encoded = column_transformer.transform(X_test)\n",
    "best_features_train = get_best_features(X_train_encoded, best_weights_no_scale)\n",
    "best_features_test = get_best_features(X_test_encoded, best_weights_no_scale)"
   ]
  },
  {
   "cell_type": "code",
   "execution_count": 270,
   "metadata": {},
   "outputs": [],
   "source": [
    "logreg = Pipeline([\n",
    "    ('logreg', LogisticRegression(penalty='l2', max_iter=500))\n",
    "])\n",
    "C_param_name = 'logreg__C'\n",
    "C_values = np.logspace(-2, 2, 5)\n",
    "search = GridSearchCV(logreg, {C_param_name: C_values}, cv=5)\n",
    "model = search.fit(best_features_train, y_train)"
   ]
  },
  {
   "cell_type": "code",
   "execution_count": 271,
   "metadata": {},
   "outputs": [
    {
     "name": "stdout",
     "output_type": "stream",
     "text": [
      "Лучшее значение регуляризатора: 1.0\n",
      "AUC-PR (train) = 0.39554\n",
      "AUC-PR (test) = 0.40916\n"
     ]
    }
   ],
   "source": [
    "print('Лучшее значение регуляризатора: ' + str(search.best_params_[C_param_name]))\n",
    "best_model = search.best_estimator_\n",
    "prediction_train = best_model.decision_function(best_features_train)\n",
    "print(\"AUC-PR (train) = \" + str(round(average_precision_score(y_train, prediction_train), 5)))\n",
    "prediction_test = best_model.decision_function(best_features_test)\n",
    "print(\"AUC-PR (test) = \" + str(round(average_precision_score(y_test, prediction_test), 5)))"
   ]
  },
  {
   "cell_type": "markdown",
   "metadata": {},
   "source": [
    "Значения немного получше, чем без скалирования вообще, но не дотягивают до варианта без скалированием закодированных признаков"
   ]
  },
  {
   "cell_type": "markdown",
   "metadata": {},
   "source": [
    "Оценим список весов для всех вариантов:"
   ]
  },
  {
   "cell_type": "code",
   "execution_count": 284,
   "metadata": {},
   "outputs": [
    {
     "name": "stdout",
     "output_type": "stream",
     "text": [
      "[ 0  1  2  4  5  7  8  9 12 13 14 16 18 19 22 23 24 25 26 30 32 33 34 35\n",
      " 36 37 39 40 41 42 43 44 45 46 47 48 49 50 51 52]\n",
      "[ 1  2  3  4  5  6  7  8  9 12 13 14 15 16 18 19 20 21 22 23 24 25 26 33\n",
      " 34 35 36 37 39 40 41 42 44 45 46 48 49 50 51 52]\n",
      "[ 1  3  4  5  7  8 10 11 12 13 15 16 20 21 24 25 33 34 35 36 37 39 40 42\n",
      " 43 44 45 47 48 49 50 51 52 54 55 57 58 59 60 61]\n"
     ]
    }
   ],
   "source": [
    "def get_features_positions(weights):\n",
    "    n = 40\n",
    "    threshold = sorted(np.abs(weights), reverse=True)[n] # находим порог самого \"слабого\" признака, начиная с которого будем убирать признаки\n",
    "    idx = np.where(abs(weights) > threshold)[0]\n",
    "    return idx\n",
    "\n",
    "print(get_features_positions(best_weights_scale_ohe))\n",
    "print(get_features_positions(best_weights_no_scale))\n",
    "print(get_features_positions(best_weights_scale))"
   ]
  },
  {
   "cell_type": "markdown",
   "metadata": {},
   "source": [
    "Списки для скалирования после кодирования ohe и без скалирования в принципе довольно похожи, в случае же скалирования только численных фичей результат доовльно сильно отличается, он и дает лучшие метрики."
   ]
  },
  {
   "cell_type": "markdown",
   "metadata": {},
   "source": [
    "### Методы фильтрации\n",
    "\n",
    "\n",
    "Давайте отбирать признаки умнее, а именно через подсчёт некоторой функции для каждого признака. На основании значений этой функции будем оставлять наиболее важные признаки. Методы этого семейства называют фильтрующими или  filter methods. \n",
    "\n",
    "В качестве такой функции будем считать t-статистику:\n",
    "\n",
    "$$t(j) = \\frac{|\\mu_+ - \\mu_-|}{\\sqrt{\\frac{n_+ \\sigma^2_+ + n_- \\sigma^2_-}{n_+ + n_-}}},$$\n",
    "\n",
    "где $\\mu$, $\\sigma$, $n$ соответственно среднее, стандартное отклонение и количество объектов каждого из классов.\n",
    "\n",
    "__Задание 9 (0.5 балла).__ Оставьте 40 признаков с наибольшим значением $t$ и замерьте качество. Не забудьте замерить скорость отбора признаков в этом случае.\n",
    "\n"
   ]
  },
  {
   "cell_type": "code",
   "execution_count": 313,
   "metadata": {},
   "outputs": [],
   "source": [
    "def get_best_features_filter(X, y):\n",
    "    n = 40\n",
    "    t_values = []\n",
    "    for column in range(X.shape[1]):\n",
    "        positive_loc = y == 1\n",
    "        negative_loc = y == 0\n",
    "        count_positives = X[positive_loc, column].shape[0]\n",
    "        sigma_positives = np.std(X[positive_loc, column])\n",
    "        average_positives = np.mean(X[positive_loc, column])\n",
    "        count_negatives = X[negative_loc, column].shape[0]\n",
    "        sigma_negatives = np.std(X[negative_loc, column])\n",
    "        average_negatives = np.mean(X[negative_loc, column])\n",
    "        t_value = abs(average_positives - average_negatives) / np.sqrt((count_positives * sigma_positives + count_negatives*sigma_negatives) / (count_positives + count_negatives))\n",
    "        t_values.append(t_value)\n",
    "    idx = (-np.array(t_values)).argsort()[:n] # индексы топ40 фич по t-value\n",
    "    return X[:, idx]\n",
    "        "
   ]
  },
  {
   "cell_type": "code",
   "execution_count": null,
   "metadata": {},
   "outputs": [],
   "source": [
    "#your code here\n",
    "X_train_encoded = column_transformer.fit_transform(X_train)\n",
    "X_test_encoded = column_transformer.transform(X_test)\n",
    "best_features_train = get_best_features_filter(X_train_encoded, y_train)\n",
    "best_features_test = get_best_features_filter(X_test_encoded, y_test)"
   ]
  },
  {
   "cell_type": "code",
   "execution_count": 318,
   "metadata": {},
   "outputs": [],
   "source": [
    "logreg = Pipeline([\n",
    "    ('logreg', LogisticRegression(penalty='l2', max_iter=500))\n",
    "])\n",
    "C_param_name = 'logreg__C'\n",
    "C_values = np.logspace(-2, 2, 5)\n",
    "search = GridSearchCV(logreg, {C_param_name: C_values}, cv=5)\n",
    "model = search.fit(best_features_train, y_train)"
   ]
  },
  {
   "cell_type": "code",
   "execution_count": 319,
   "metadata": {},
   "outputs": [
    {
     "name": "stdout",
     "output_type": "stream",
     "text": [
      "Лучшее значение регуляризатора: 0.01\n",
      "AUC-PR (train) = 0.45033\n",
      "AUC-PR (test) = 0.42175\n"
     ]
    }
   ],
   "source": [
    "print('Лучшее значение регуляризатора: ' + str(search.best_params_[C_param_name]))\n",
    "best_model = search.best_estimator_\n",
    "prediction_train = best_model.decision_function(best_features_train)\n",
    "print(\"AUC-PR (train) = \" + str(round(average_precision_score(y_train, prediction_train), 5)))\n",
    "prediction_test = best_model.decision_function(best_features_test)\n",
    "print(\"AUC-PR (test) = \" + str(round(average_precision_score(y_test, prediction_test), 5)))"
   ]
  },
  {
   "cell_type": "markdown",
   "metadata": {},
   "source": [
    "На трейне качество получилось лучшим из всех вариантов, но вновь произошел оверфит"
   ]
  },
  {
   "cell_type": "code",
   "execution_count": null,
   "metadata": {},
   "outputs": [],
   "source": [
    "%%timeit\n",
    "X_test_encoded = column_transformer.transform(X_test) # кодируем признаки (ohe + scaling)\n",
    "best_features_test = get_best_features_filter(X_test_encoded, y_test) # отбираем признаки\n",
    "best_model.fit(best_features_test, y_test)"
   ]
  },
  {
   "cell_type": "markdown",
   "metadata": {},
   "source": [
    "Зато довольно быстро, ведь нампай паралелит!"
   ]
  },
  {
   "cell_type": "markdown",
   "metadata": {},
   "source": [
    "### Методы-обёртки\n",
    "\n",
    "__Задание 10 (1 балл).__ \n",
    "\n",
    "Третий из рассматриваемых нами методов работает следующим образом: мы исключаем по очереди один из признаков и смотрим, как это влияет на качество. Удаляем признаки таким жадным способом, пока не окажется выполненым некоторое условие (количество признаков или ухудшение качества).\n",
    "\n",
    "Заметим, что нельзя оценивать качество по тестовой выборке, иначе мы можем переобучиться, как, например, при настройке гиперпараметров. Разделите обучающую выборку на 2 части, на одной из них обучайте модель без одного из признаков,  на второй части оценивайте качество. Исходную тестовую выборку стоит использовать только для финальной оценки качества.\n",
    "\n",
    "Снова оставьте только 40 признаков и оцените качество на тестовой выборке. Сколько времени занял такой отбор признаков?"
   ]
  },
  {
   "cell_type": "code",
   "execution_count": 410,
   "metadata": {},
   "outputs": [],
   "source": [
    "def get_best_features_brute(classificator, X, y):\n",
    "    excluded_idx = []\n",
    "    history = []\n",
    "    n = 40\n",
    "    features = [i for i in range(X.shape[1])]\n",
    "    for i in range(len(features) - n):\n",
    "        X_train, X_test, y_train, y_test = train_test_split(X, y, test_size=0.5, random_state=4, stratify=y)\n",
    "        max_auc = 0\n",
    "        max_auc_idx = -1\n",
    "        features_left = [feature for feature in features if feature not in excluded_idx]\n",
    "        for column in range(X_train.shape[1]):\n",
    "            if (column not in features_left):\n",
    "                continue\n",
    "            features_left.remove(column)\n",
    "            X_train_curr = X_train[:, features_left]\n",
    "            X_test_curr = X_test[:, features_left]\n",
    "            classificator.fit(X_train_curr, y_train)\n",
    "            prediction = classificator.decision_function(X_test_curr)\n",
    "            auc = average_precision_score(y_test, prediction)\n",
    "            if auc > max_auc:\n",
    "                max_auc = auc\n",
    "                max_auc_idx = column\n",
    "            features_left.append(column)\n",
    "        print(\"[\"+str(i+1)+\"]\" + \"Удаляем признак с индексом=\" + str(max_auc_idx) + \", после удаления которого AUC-PR=\" + str(max_auc))\n",
    "        history.append(max_auc)\n",
    "        excluded_idx.append(max_auc_idx)\n",
    "    features_left = [feature for feature in features if feature not in excluded_idx]\n",
    "    return features_left"
   ]
  },
  {
   "cell_type": "code",
   "execution_count": 411,
   "metadata": {},
   "outputs": [
    {
     "name": "stdout",
     "output_type": "stream",
     "text": [
      "[1]Удаляем признак с индексом=5, после удаления которого AUC-PR=0.4457444404671511\n",
      "[2]Удаляем признак с индексом=1, после удаления которого AUC-PR=0.4482918855995463\n",
      "[3]Удаляем признак с индексом=54, после удаления которого AUC-PR=0.44877145757869813\n",
      "[4]Удаляем признак с индексом=55, после удаления которого AUC-PR=0.4492732880604759\n",
      "[5]Удаляем признак с индексом=56, после удаления которого AUC-PR=0.45000179849762784\n",
      "[6]Удаляем признак с индексом=60, после удаления которого AUC-PR=0.45038570740833855\n",
      "[7]Удаляем признак с индексом=10, после удаления которого AUC-PR=0.4507345325333879\n",
      "[8]Удаляем признак с индексом=8, после удаления которого AUC-PR=0.4510818225947254\n",
      "[9]Удаляем признак с индексом=6, после удаления которого AUC-PR=0.4513465968392321\n",
      "[10]Удаляем признак с индексом=51, после удаления которого AUC-PR=0.4515417968838794\n",
      "[11]Удаляем признак с индексом=46, после удаления которого AUC-PR=0.4525253030228544\n",
      "[12]Удаляем признак с индексом=23, после удаления которого AUC-PR=0.45260540538568533\n",
      "[13]Удаляем признак с индексом=16, после удаления которого AUC-PR=0.45339376193849046\n",
      "[14]Удаляем признак с индексом=22, после удаления которого AUC-PR=0.45354703089256204\n",
      "[15]Удаляем признак с индексом=19, после удаления которого AUC-PR=0.45392405437618233\n",
      "[16]Удаляем признак с индексом=9, после удаления которого AUC-PR=0.4544543105675132\n",
      "[17]Удаляем признак с индексом=0, после удаления которого AUC-PR=0.45471879037402907\n",
      "[18]Удаляем признак с индексом=2, после удаления которого AUC-PR=0.45485101934022937\n",
      "[19]Удаляем признак с индексом=17, после удаления которого AUC-PR=0.45495527314339895\n",
      "[20]Удаляем признак с индексом=12, после удаления которого AUC-PR=0.45501257110516646\n",
      "[21]Удаляем признак с индексом=14, после удаления которого AUC-PR=0.4553219987618312\n",
      "[22]Удаляем признак с индексом=21, после удаления которого AUC-PR=0.45534900466102907\n"
     ]
    }
   ],
   "source": [
    "#your code here\n",
    "column_transformer = ColumnTransformer([\n",
    "    ('ohe', OneHotEncoder(handle_unknown=\"ignore\", sparse=False), categorical_features),\n",
    "    ('scaling', StandardScaler(), numeric_features)\n",
    "])\n",
    "X_train_encoded = column_transformer.fit_transform(X_train)\n",
    "logreg = Pipeline([\n",
    "    ('logreg', LogisticRegression(penalty='l2', max_iter=500))\n",
    "])\n",
    "features_idx, history = get_best_features_brute(logreg, X_train_encoded, y_train)"
   ]
  },
  {
   "cell_type": "code",
   "execution_count": 414,
   "metadata": {},
   "outputs": [
    {
     "data": {
      "text/plain": [
       "Text(0, 0.5, 'AUC-PR')"
      ]
     },
     "execution_count": 414,
     "metadata": {},
     "output_type": "execute_result"
    },
    {
     "data": {
      "image/png": "[encoded data removed]",
      "text/plain": [
       "<Figure size 432x432 with 1 Axes>"
      ]
     },
     "metadata": {
      "needs_background": "light"
     },
     "output_type": "display_data"
    }
   ],
   "source": [
    "plt.figure(figsize=(6,6))\n",
    "plt.plot(history)\n",
    "plt.title('Зависимость AUC-PR от количества удаленных признаков')\n",
    "plt.xlabel('Количество удаленных признаков')\n",
    "plt.ylabel('AUC-PR')"
   ]
  },
  {
   "cell_type": "code",
   "execution_count": 399,
   "metadata": {},
   "outputs": [],
   "source": [
    "X_train_encoded = column_transformer.fit_transform(X_train)\n",
    "X_test_encoded = column_transformer.transform(X_test)\n",
    "best_features_train = X_train_encoded[:, features_idx]\n",
    "best_features_test = X_test_encoded[:, features_idx]"
   ]
  },
  {
   "cell_type": "code",
   "execution_count": 400,
   "metadata": {},
   "outputs": [],
   "source": [
    "logreg = Pipeline([\n",
    "    ('logreg', LogisticRegression(penalty='l2', max_iter=500))\n",
    "])\n",
    "C_param_name = 'logreg__C'\n",
    "C_values = np.logspace(-2, 2, 5)\n",
    "search = GridSearchCV(logreg, {C_param_name: C_values}, cv=5)\n",
    "model = search.fit(best_features_train, y_train)"
   ]
  },
  {
   "cell_type": "code",
   "execution_count": 401,
   "metadata": {},
   "outputs": [
    {
     "name": "stdout",
     "output_type": "stream",
     "text": [
      "Лучшее значение регуляризатора: 10.0\n",
      "AUC-PR (train) = 0.45528\n",
      "AUC-PR (test) = 0.44496\n"
     ]
    }
   ],
   "source": [
    "print('Лучшее значение регуляризатора: ' + str(search.best_params_[C_param_name]))\n",
    "best_model = search.best_estimator_\n",
    "prediction_train = best_model.decision_function(best_features_train)\n",
    "print(\"AUC-PR (train) = \" + str(round(average_precision_score(y_train, prediction_train), 5)))\n",
    "prediction_test = best_model.decision_function(best_features_test)\n",
    "print(\"AUC-PR (test) = \" + str(round(average_precision_score(y_test, prediction_test), 5)))"
   ]
  },
  {
   "cell_type": "markdown",
   "metadata": {},
   "source": [
    "Как видно, данная вариация жадного алгоритма с элементами брут-форса дает определенные результаты. Но, к сожалению, метод выполняется **очень долго** (очевидно, обучить надо порядка 1000 моделей) "
   ]
  },
  {
   "cell_type": "markdown",
   "metadata": {},
   "source": [
    "Стоит отметить, что с помощью такого метода можно пойти и в обратную сторону. Попробуйте _добавлять_ по одному самому полезному признаку в выборку до тех пор, пока не наберется 40 штук. Найдется ли порог, при котором добавление следующих признаков будет только ухудшать качество модели?"
   ]
  },
  {
   "cell_type": "code",
   "execution_count": 415,
   "metadata": {},
   "outputs": [],
   "source": [
    "def get_best_features_brute_reverse(classificator, X, y):\n",
    "    included_idx = []\n",
    "    history = []\n",
    "    n = 40\n",
    "    features = [i for i in range(X.shape[1])]\n",
    "    features_used = []\n",
    "    for i in range(n):\n",
    "        X_train, X_test, y_train, y_test = train_test_split(X, y, test_size=0.5, random_state=4, stratify=y)\n",
    "        max_auc = 0\n",
    "        max_auc_idx = -1\n",
    "        features_used = [feature for feature in features if feature in included_idx]\n",
    "        for column in range(X_train.shape[1]):\n",
    "            if (column in features_used):\n",
    "                continue\n",
    "            features_used.append(column)\n",
    "            X_train_curr = X_train[:, features_used]\n",
    "            X_test_curr = X_test[:, features_used]\n",
    "            classificator.fit(X_train_curr, y_train)\n",
    "            prediction = classificator.decision_function(X_test_curr)\n",
    "            auc = average_precision_score(y_test, prediction)\n",
    "            if auc > max_auc:\n",
    "                max_auc = auc\n",
    "                max_auc_idx = column\n",
    "            features_used.remove(column)\n",
    "        print(\"[\" +str(i+1)+ ']'+\"Добавляем признак с индексом=\" + str(max_auc_idx) + \", после добавления которого AUC-PR=\" + str(max_auc))\n",
    "        included_idx.append(max_auc_idx)\n",
    "        history.append(max_auc)\n",
    "    features_used = [feature for feature in features if feature in included_idx]\n",
    "    return features_used, history"
   ]
  },
  {
   "cell_type": "code",
   "execution_count": 416,
   "metadata": {},
   "outputs": [
    {
     "name": "stdout",
     "output_type": "stream",
     "text": [
      "[1]Добавляем признак с индексом=60, после добавления которого AUC-PR=0.3383400585196503\n",
      "[2]Добавляем признак с индексом=37, после добавления которого AUC-PR=0.3943538926439805\n",
      "[3]Добавляем признак с индексом=49, после добавления которого AUC-PR=0.40959997545688\n",
      "[4]Добавляем признак с индексом=39, после добавления которого AUC-PR=0.4237533785703637\n",
      "[5]Добавляем признак с индексом=61, после добавления которого AUC-PR=0.43248228792105314\n",
      "[6]Добавляем признак с индексом=33, после добавления которого AUC-PR=0.4378178044972311\n",
      "[7]Добавляем признак с индексом=36, после добавления которого AUC-PR=0.4428109277934652\n",
      "[8]Добавляем признак с индексом=59, после добавления которого AUC-PR=0.44513131130980055\n",
      "[9]Добавляем признак с индексом=13, после добавления которого AUC-PR=0.44718976947152395\n",
      "[10]Добавляем признак с индексом=58, после добавления которого AUC-PR=0.4481367664789313\n",
      "[11]Добавляем признак с индексом=1, после добавления которого AUC-PR=0.4495931511330609\n",
      "[12]Добавляем признак с индексом=42, после добавления которого AUC-PR=0.4511301105845271\n",
      "[13]Добавляем признак с индексом=45, после добавления которого AUC-PR=0.45189537019401044\n",
      "[14]Добавляем признак с индексом=55, после добавления которого AUC-PR=0.4522157518922104\n",
      "[15]Добавляем признак с индексом=43, после добавления которого AUC-PR=0.45248817983785355\n",
      "[16]Добавляем признак с индексом=53, после добавления которого AUC-PR=0.45292178258635407\n",
      "[17]Добавляем признак с индексом=25, после добавления которого AUC-PR=0.4534233128289061\n",
      "[18]Добавляем признак с индексом=40, после добавления которого AUC-PR=0.45358252978880836\n",
      "[19]Добавляем признак с индексом=6, после добавления которого AUC-PR=0.4536898468646371\n",
      "[20]Добавляем признак с индексом=4, после добавления которого AUC-PR=0.4538183097530932\n",
      "[21]Добавляем признак с индексом=35, после добавления которого AUC-PR=0.4539006089136256\n",
      "[22]Добавляем признак с индексом=20, после добавления которого AUC-PR=0.45389813560406567\n",
      "[23]Добавляем признак с индексом=34, после добавления которого AUC-PR=0.45389538007135266\n",
      "[24]Добавляем признак с индексом=26, после добавления которого AUC-PR=0.45389162237439884\n",
      "[25]Добавляем признак с индексом=24, после добавления которого AUC-PR=0.4538974391036882\n",
      "[26]Добавляем признак с индексом=28, после добавления которого AUC-PR=0.4538607960834814\n",
      "[27]Добавляем признак с индексом=31, после добавления которого AUC-PR=0.45387607159004156\n",
      "[28]Добавляем признак с индексом=9, после добавления которого AUC-PR=0.4538189425148869\n",
      "[29]Добавляем признак с индексом=2, после добавления которого AUC-PR=0.45385929338890973\n",
      "[30]Добавляем признак с индексом=11, после добавления которого AUC-PR=0.45378850494187706\n",
      "[31]Добавляем признак с индексом=16, после добавления которого AUC-PR=0.4537043809203568\n",
      "[32]Добавляем признак с индексом=3, после добавления которого AUC-PR=0.4536429630335512\n",
      "[33]Добавляем признак с индексом=18, после добавления которого AUC-PR=0.4535252061311125\n",
      "[34]Добавляем признак с индексом=41, после добавления которого AUC-PR=0.4533067055715806\n",
      "[35]Добавляем признак с индексом=38, после добавления которого AUC-PR=0.45327083767067117\n",
      "[36]Добавляем признак с индексом=10, после добавления которого AUC-PR=0.45315569574946407\n",
      "[37]Добавляем признак с индексом=21, после добавления которого AUC-PR=0.45293636054573894\n",
      "[38]Добавляем признак с индексом=51, после добавления которого AUC-PR=0.4527715881548481\n",
      "[39]Добавляем признак с индексом=14, после добавления которого AUC-PR=0.4525503860008669\n",
      "[40]Добавляем признак с индексом=22, после добавления которого AUC-PR=0.4524123410205398\n"
     ]
    }
   ],
   "source": [
    "column_transformer = ColumnTransformer([\n",
    "    ('ohe', OneHotEncoder(handle_unknown=\"ignore\", sparse=False), categorical_features),\n",
    "    ('scaling', StandardScaler(), numeric_features)\n",
    "])\n",
    "X_train_encoded = column_transformer.fit_transform(X_train)\n",
    "logreg = Pipeline([\n",
    "    ('logreg', LogisticRegression(penalty='l2', max_iter=500))\n",
    "])\n",
    "features_idx, history = get_best_features_brute_reverse(logreg, X_train_encoded, y_train)"
   ]
  },
  {
   "cell_type": "code",
   "execution_count": 417,
   "metadata": {},
   "outputs": [
    {
     "data": {
      "text/plain": [
       "Text(0, 0.5, 'AUC-PR')"
      ]
     },
     "execution_count": 417,
     "metadata": {},
     "output_type": "execute_result"
    },
    {
     "data": {
      "image/png": "[encoded data removed]",
      "text/plain": [
       "<Figure size 432x432 with 1 Axes>"
      ]
     },
     "metadata": {
      "needs_background": "light"
     },
     "output_type": "display_data"
    }
   ],
   "source": [
    "plt.figure(figsize=(6,6))\n",
    "plt.plot(history)\n",
    "plt.title('Зависимость AUC-PR от количества удаленных признаков')\n",
    "plt.xlabel('Количество удаленных признаков')\n",
    "plt.ylabel('AUC-PR')"
   ]
  },
  {
   "cell_type": "markdown",
   "metadata": {},
   "source": [
    "Как видно по логам и графику, порог, после которого происходило только ухудшение модели, было на добалении 21 признака "
   ]
  },
  {
   "cell_type": "code",
   "execution_count": 418,
   "metadata": {},
   "outputs": [
    {
     "name": "stdout",
     "output_type": "stream",
     "text": [
      "Лучшее значение регуляризатора: 0.1\n",
      "AUC-PR (train) = 0.44746\n",
      "AUC-PR (test) = 0.44063\n"
     ]
    }
   ],
   "source": [
    "X_train_encoded = column_transformer.fit_transform(X_train)\n",
    "X_test_encoded = column_transformer.transform(X_test)\n",
    "best_features_train = X_train_encoded[:, features_idx]\n",
    "best_features_test = X_test_encoded[:, features_idx]\n",
    "\n",
    "logreg = Pipeline([\n",
    "    ('logreg', LogisticRegression(penalty='l2', max_iter=500))\n",
    "])\n",
    "C_param_name = 'logreg__C'\n",
    "C_values = np.logspace(-2, 2, 5)\n",
    "search = GridSearchCV(logreg, {C_param_name: C_values}, cv=5)\n",
    "model = search.fit(best_features_train, y_train)\n",
    "\n",
    "print('Лучшее значение регуляризатора: ' + str(search.best_params_[C_param_name]))\n",
    "best_model = search.best_estimator_\n",
    "prediction_train = best_model.decision_function(best_features_train)\n",
    "print(\"AUC-PR (train) = \" + str(round(average_precision_score(y_train, prediction_train), 5)))\n",
    "prediction_test = best_model.decision_function(best_features_test)\n",
    "print(\"AUC-PR (test) = \" + str(round(average_precision_score(y_test, prediction_test), 5)))"
   ]
  },
  {
   "cell_type": "markdown",
   "metadata": {},
   "source": [
    "Данный метод показал себя немного хуже предыдущего. Вероятно, если бы мы остановились на 21 признаке, было бы лучше :)"
   ]
  },
  {
   "cell_type": "markdown",
   "metadata": {},
   "source": [
    "Давайте подведём итоги по отбору признаков. Назовите преимущества и недостатки каждого из методов. Какой метод привёл к наилучшему качеству?\n",
    "\n",
    "**Ответ:**\n",
    "Встроенный метод:\n",
    "\n",
    "    - Преимущества: компромиссный вариант между скоростью и качеством отбора\n",
    "    - Недостатки: требуется предварительно обученнная модель, необходима предобработка признаков\n",
    "\n",
    "Фильтрация:\n",
    "\n",
    "    - Преимущества: признаки отбираются очень быстро, нужен всего один проход по датасету\n",
    "    - Недостатки: легко переобучается\n",
    "\n",
    "Метод обёртки:\n",
    "\n",
    "    - Преимущества: довольно точный метод с возможностью тонкой настройки процесса отбора (критерии остановы)\n",
    "    - Недостатки: ДОЛГО"
   ]
  },
  {
   "cell_type": "markdown",
   "metadata": {},
   "source": [
    "# Часть 3. Оценка экономического эффекта модели\n",
    "\n",
    "В данной части мы займемся тем, что от вас скорее всего потребуется на реальной работе (помимо перекладки `json`, разумеется). А именно: мы соберем несколько специализированных метрик качества, попытаемся настроить модель на максимизацию _прибыли_ и оценим, сколько вообще получится заработать на этом. Разумеется, здесь будет сделано множество упрощающих жизнь допущений, но обо всем по порядку. \n",
    "\n",
    "__Задание 11 (1 балл).__ Допустим, работники вашего колл-центра получают за один звонок клиенту 1 доллар. При согласии клиента на предлагаемые условия он принесет в банк 10 долларов.\n",
    "\n",
    "Если вы всё прослушали на экономике, то напомним, что выручка — это сколько денег нам принесли клиенты, а прибыль — выручка за вычетом расходов на зарплату и прочее.\n",
    "\n",
    "Загрузите данные о телемаркетинге из предыдущего блока заданий. В этой части не нужно делить выборку - мы будем использовать кросс-валидацию. Используйте 5 фолдов, сделайте `shuffle=True, random_state=500`. По кросс-валидации у вас получится 5 вариантов обучающей и тестовой выборки. Обучите логистическую регрессию на каждой обучающей выборке (воспользуйтесь one-hot для категориальных признаков, гиперпараметры оставьте со значениями по умолчанию) и сделайте предсказания для соответствующих тестовых выборок. Допустим, всем положительным прогнозам ваши сотрудники решили позвонить. Посчитайте на всех тестовых выборках выручку и усредните. Сколько денег вы в среднем заработаете? Также вычислите стандартное отклонение.\n",
    "\n",
    "Сколько из заработанных денег придётся отдать операторам вашего колл-центра?"
   ]
  },
  {
   "cell_type": "code",
   "execution_count": 17,
   "metadata": {},
   "outputs": [],
   "source": [
    "from sklearn.model_selection import KFold\n",
    "folds = KFold(n_splits=5, shuffle=True, random_state=500)\n",
    "column_transformer = ColumnTransformer([\n",
    "    ('ohe', OneHotEncoder(handle_unknown='ignore'), categorical_features),\n",
    "    ('scaling', StandardScaler(), numeric_features)\n",
    "])\n",
    "logreg = Pipeline([\n",
    "    ('transform', column_transformer),\n",
    "    ('logreg', LogisticRegression(penalty='l2', max_iter=500))\n",
    "])"
   ]
  },
  {
   "cell_type": "code",
   "execution_count": 440,
   "metadata": {},
   "outputs": [
    {
     "name": "stdout",
     "output_type": "stream",
     "text": [
      "[2240, 2110, 2090, 2250, 1970]\n",
      "[310, 330, 330, 330, 322]\n"
     ]
    }
   ],
   "source": [
    "income_call = 10\n",
    "price_call = 1\n",
    "incomes = []\n",
    "calls = []\n",
    "for train_idx, test_idx in folds.split(X):\n",
    "    model = logreg.fit(X.loc[train_idx], y[train_idx])\n",
    "    prediction = logreg.predict(X.loc[test_idx])\n",
    "    y_test = y[test_idx]\n",
    "    true_positives = np.where((prediction == 1) & (y_test == 1), 1, 0)\n",
    "    incomes.append(true_positives[true_positives == 1].shape[0] * income_call)\n",
    "    calls.append(prediction[prediction==1].shape[0])\n",
    "print(incomes)\n",
    "print(calls)"
   ]
  },
  {
   "cell_type": "code",
   "execution_count": 447,
   "metadata": {},
   "outputs": [
    {
     "name": "stdout",
     "output_type": "stream",
     "text": [
      "Средняя выручка: 2132.0$\n",
      "Стандартное отклонение: 104.0\n"
     ]
    }
   ],
   "source": [
    "print('Средняя выручка: ' + str(np.mean(incomes)) + '$')\n",
    "print('Стандартное отклонение: ' + str(np.std(incomes)))"
   ]
  },
  {
   "cell_type": "code",
   "execution_count": 449,
   "metadata": {},
   "outputs": [
    {
     "name": "stdout",
     "output_type": "stream",
     "text": [
      "В среднем отдать звонящим: 324.4$\n"
     ]
    }
   ],
   "source": [
    "print('В среднем отдать звонящим: ' + str(np.mean(calls) * price_call) + '$')"
   ]
  },
  {
   "cell_type": "markdown",
   "metadata": {},
   "source": [
    "Внесем некоторую долю случайности. Пусть теперь согласный на условия клиент будет приносить не 10 долларов, а случайную величину, равномерно распределенную в интервале $[0;20)$. Проделайте все те же самые действия. Для имитации реальной ситуации **НЕ** фиксируйте `random_seed` при подсчете выручки с клиента. Что получилось?"
   ]
  },
  {
   "cell_type": "code",
   "execution_count": 458,
   "metadata": {},
   "outputs": [],
   "source": [
    "#your code here\n",
    "y_with_income = pd.DataFrame(columns=['prediction', 'income'])\n",
    "y_with_income.loc[:, 'prediction'] = y\n",
    "y_with_income.loc[:, 'income'] = np.random.uniform(0, 20, y.shape[0])"
   ]
  },
  {
   "cell_type": "code",
   "execution_count": 466,
   "metadata": {},
   "outputs": [
    {
     "name": "stdout",
     "output_type": "stream",
     "text": [
      "[2616.911972081381, 1079.5242749211625, 982.4924639696296, 3856.3363754050724, 1086.074200704128]\n",
      "[310, 330, 330, 330, 322]\n"
     ]
    }
   ],
   "source": [
    "income_call_min = 0\n",
    "price_call = 1\n",
    "income_call_max = 20\n",
    "incomes = []\n",
    "calls = []\n",
    "for train_idx, test_idx in folds.split(X):\n",
    "    model = logreg.fit(X.loc[train_idx], y[train_idx])\n",
    "    prediction = logreg.predict(X.loc[test_idx])\n",
    "    y_test = y[test_idx]\n",
    "    true_positives = np.where((prediction == 1) & (y_test == 1), 1, 0)\n",
    "    incomes.append(true_positives[true_positives == 1].shape[0] * np.random.uniform(income_call_min, income_call_max))\n",
    "    calls.append(prediction[prediction==1].shape[0])\n",
    "print(incomes)\n",
    "print(calls)"
   ]
  },
  {
   "cell_type": "code",
   "execution_count": 467,
   "metadata": {},
   "outputs": [
    {
     "name": "stdout",
     "output_type": "stream",
     "text": [
      "Средняя выручка: 1924.27$\n",
      "Стандартное отклонение: 1141.56\n",
      "В среднем отдать звонящим: 324.4$\n"
     ]
    }
   ],
   "source": [
    "print('Средняя выручка: ' + str(round(np.mean(incomes), 2)) + '$')\n",
    "print('Стандартное отклонение: ' + str(round(np.std(incomes), 2)))\n",
    "print('В среднем отдать звонящим: ' + str(np.mean(calls) * price_call) + '$')"
   ]
  },
  {
   "cell_type": "markdown",
   "metadata": {},
   "source": [
    "Полученная средняя выручка близка к полученной на прошлом этапе, поскольку фиксированная прибыль 10 долларов - середина интервала для второго варианта расчета прибыли. Очевидно, стандартное отклонение вырасло очень значительно, опять же из за распределения."
   ]
  },
  {
   "cell_type": "markdown",
   "metadata": {},
   "source": [
    "Настройте по кросс-валидации коэффициент регуляризации модели для максимизации прибыли (считайте как случайную величину выше). Удалось ли получить какой-то выигрыш? При каком коэффициенте регуляризациии прибыль максимальна? Постройте график зависимости ожидаемой прибыли от коэффициента, также укажите стандартные отклонения (вам поможет `plt.errorbar`)."
   ]
  },
  {
   "cell_type": "code",
   "execution_count": 482,
   "metadata": {},
   "outputs": [],
   "source": [
    "#your code here\n",
    "def get_profits(C_values):\n",
    "    income_call_min = 0\n",
    "    price_call = 1\n",
    "    income_call_max = 20\n",
    "    profits_by_C = {}\n",
    "    for C_value in C_values:\n",
    "        profits = []\n",
    "        for train_idx, test_idx in folds.split(X):\n",
    "            model = logreg.fit(X.loc[train_idx], y[train_idx])\n",
    "            prediction = logreg.predict(X.loc[test_idx])\n",
    "            y_test = y[test_idx]\n",
    "            true_positives = np.where((prediction == 1) & (y_test == 1), 1, 0)\n",
    "            profit = true_positives[true_positives == 1].shape[0] * np.random.uniform(income_call_min, income_call_max) - prediction[prediction==1].shape[0] * price_call\n",
    "            profits.append(profit)\n",
    "        profits_by_C[C_value] = profits\n",
    "    profit_means_by_C = []\n",
    "    profit_devs_by_C = []\n",
    "    for C, profits in profits_by_C.items():\n",
    "        profit_means_by_C.append(np.mean(profits))\n",
    "        profit_devs_by_C.append(np.std(profits)) \n",
    "    return profit_means_by_C, profit_devs_by_C"
   ]
  },
  {
   "cell_type": "code",
   "execution_count": 483,
   "metadata": {},
   "outputs": [],
   "source": [
    "C_values = np.logspace(2, -2, 10)\n",
    "means, devs = get_profits(C_values)"
   ]
  },
  {
   "cell_type": "code",
   "execution_count": 487,
   "metadata": {},
   "outputs": [
    {
     "data": {
      "image/png": "[encoded data removed]",
      "text/plain": [
       "<Figure size 720x360 with 1 Axes>"
      ]
     },
     "metadata": {
      "needs_background": "light"
     },
     "output_type": "display_data"
    },
    {
     "name": "stdout",
     "output_type": "stream",
     "text": [
      "Лучшее значение регуляризатора С=0.02782559402207126\n",
      "Прибыль для данного значения регуляризатора: 2864.38$\n"
     ]
    }
   ],
   "source": [
    "plt.figure(figsize=(10,5))\n",
    "plt.errorbar(C_values, means, devs, uplims=True, lolims=True)\n",
    "plt.xscale('log') # для адекватной демонстрации, поскольку отличия в коэффицентах C - порядковое\n",
    "plt.title('Зависимость потенциальной прибыли от коэффициента регуляризации (со стандартными отклонениями)')\n",
    "plt.xlabel('Регуляризатор')\n",
    "plt.ylabel('Прибыль')\n",
    "plt.show()\n",
    "print(\"Лучшее значение регуляризатора С=\" + str(C_values[means.index(max(means))]))\n",
    "print(\"Прибыль для данного значения регуляризатора: \" + str(round(max(means), 2)) + '$')"
   ]
  },
  {
   "cell_type": "markdown",
   "metadata": {},
   "source": [
    "Попробуйте запустить перебор несколько раз. Находится ли каждый раз один и тот же \"лучший\" коэффициент? Присутствует ли какая-то закономерность? Какие вы можете сделать из этого выводы?"
   ]
  },
  {
   "cell_type": "code",
   "execution_count": 489,
   "metadata": {},
   "outputs": [
    {
     "name": "stdout",
     "output_type": "stream",
     "text": [
      "Попытка 1\n",
      "Лучшее значение регуляризатора С=0.02782559402207126\n",
      "Прибыль для данного значения регуляризатора: 2444.97$\n",
      "\n",
      "Попытка 2\n",
      "Лучшее значение регуляризатора С=100.0\n",
      "Прибыль для данного значения регуляризатора: 2818.14$\n",
      "\n",
      "Попытка 3\n",
      "Лучшее значение регуляризатора С=0.21544346900318845\n",
      "Прибыль для данного значения регуляризатора: 2803.02$\n",
      "\n",
      "Попытка 4\n",
      "Лучшее значение регуляризатора С=35.938136638046274\n",
      "Прибыль для данного значения регуляризатора: 2490.69$\n",
      "\n",
      "Попытка 5\n",
      "Лучшее значение регуляризатора С=0.02782559402207126\n",
      "Прибыль для данного значения регуляризатора: 2769.64$\n",
      "\n"
     ]
    }
   ],
   "source": [
    "#your code here\n",
    "for i in range(5):\n",
    "    print(\"Попытка \" + str(i+1))\n",
    "    means, devs = get_profits(C_values)\n",
    "    print(\"Лучшее значение регуляризатора С=\" + str(C_values[means.index(max(means))]))\n",
    "    print(\"Прибыль для данного значения регуляризатора: \" + str(round(max(means), 2)) + '$')\n",
    "    print()"
   ]
  },
  {
   "cell_type": "markdown",
   "metadata": {},
   "source": [
    "В силу того, что прибыль со звонка генерируется случайным образом с большой вариативностью, однозначных выводом сделать не получится. Тем не менее, наблюдается закономерность, что небольшой регуляризатор порядка сотых долей показывает себя лучше всего."
   ]
  },
  {
   "cell_type": "markdown",
   "metadata": {},
   "source": [
    "__Задание 12 (1 балл).__ Выше мы уже описали примерную экономическую модель вашей задачи. Как вы считаете, что для вашего бизнеса важнее — хороший precision или recall модели? Почему?\n",
    "\n",
    "__Ответ:__ нам больше важен recall. Цена звонка (а значит, цена FP результата) незначительно, зато покрытие как можно большего числа объектов положительного класса будет очень хороша для нашей модели, ведь мы получаем относительно много выручки за одобренную заявку. \n",
    "\n"
   ]
  },
  {
   "cell_type": "markdown",
   "metadata": {},
   "source": [
    "Вспомним, что на самом деле логистическая регрессия предсказывает нам вероятности положительного класса для объекта. Возможно, путем настройки порога бинаризации этих вероятностей мы сможем получить какой-то выигрыш? Проверьте ваши рассуждения выше с помощью настройки порога бинаризации на кросс-валидации для максимизации прибыли. Воспользуйтесь сеткой от 0 до 1 с шагом 0.01. Напомним, что снижение порога дает нам более высокий recall и более низкий precision, и наоборот."
   ]
  },
  {
   "cell_type": "code",
   "execution_count": 534,
   "metadata": {},
   "outputs": [],
   "source": [
    "#your code here\n",
    "def get_profits_thresholds(thresholds):\n",
    "    income_call_min = 0\n",
    "    price_call = 1\n",
    "    income_call_max = 20\n",
    "    folds = KFold(n_splits=5, shuffle=True, random_state=500)\n",
    "    profits_total = []\n",
    "    for train_idx, test_idx in folds.split(X):\n",
    "        model = logreg.fit(X.loc[train_idx], y[train_idx])\n",
    "        probas = logreg.predict_proba(X.loc[test_idx])[:, 1]\n",
    "        profits = []\n",
    "        for threshold in thresholds:\n",
    "            prediction = (probas > threshold)\n",
    "            y_test = y[test_idx]\n",
    "            true_positives = np.where((prediction == 1) & (y_test == 1), 1, 0)\n",
    "            profit = true_positives[true_positives == 1].shape[0] * np.random.uniform(income_call_min, income_call_max) - prediction[prediction==1].shape[0] * price_call\n",
    "            profits.append(profit)\n",
    "        profits_total.append(profits)\n",
    "    means = []\n",
    "    devs = []\n",
    "    for threshold in range(len(thresholds)):\n",
    "        results_for_thresh = []\n",
    "        for cv_result in range(len(profits_total)):\n",
    "            results_for_thresh.append(profits_total[cv_result][threshold])\n",
    "        means.append(np.mean(results_for_thresh))\n",
    "        devs.append(np.std(results_for_thresh))\n",
    "    return means, devs"
   ]
  },
  {
   "cell_type": "code",
   "execution_count": 535,
   "metadata": {},
   "outputs": [],
   "source": [
    "thresholds = np.arange(0, 1, 0.01)\n",
    "means, devs = get_profits_thresholds(thresholds)"
   ]
  },
  {
   "cell_type": "markdown",
   "metadata": {},
   "source": [
    "Постройте график зависимости прибыли от порога бинаризации, также отметьте на нем стандартные отклонения. Выделите наилучший порог. "
   ]
  },
  {
   "cell_type": "code",
   "execution_count": 536,
   "metadata": {},
   "outputs": [
    {
     "name": "stdout",
     "output_type": "stream",
     "text": [
      "Лучшее значение порога=0.13\n",
      "Прибыль для данного значения порога: 6859.4$\n"
     ]
    },
    {
     "data": {
      "image/png": "[encoded data removed]",
      "text/plain": [
       "<Figure size 3600x720 with 1 Axes>"
      ]
     },
     "metadata": {
      "needs_background": "light"
     },
     "output_type": "display_data"
    }
   ],
   "source": [
    "#your code here\n",
    "best_threshold = thresholds[means.index(max(means))]\n",
    "print(\"Лучшее значение порога=\" + str(best_threshold))\n",
    "print(\"Прибыль для данного значения порога: \" + str(round(max(means), 2)) + '$')\n",
    "plt.figure(figsize=(50,10))\n",
    "plt.axvspan(best_threshold-0.005, best_threshold+0.005, color='green', alpha=0.5)\n",
    "plt.errorbar(thresholds, means, devs, elinewidth=0.5)\n",
    "plt.title('Зависимость потенциальной прибыли от бинаризационного порога')\n",
    "plt.xlabel('Порог')\n",
    "plt.ylabel('Прибыль')\n",
    "plt.show()"
   ]
  },
  {
   "cell_type": "markdown",
   "metadata": {},
   "source": [
    "__Вопрос:__ Замечаете ли вы какую-то закономерность? Для правильного ответа на этот вопрос попробуйте запустить несколько раз и задумайтесь, почему порог получается в какой-то конкретной области?"
   ]
  },
  {
   "cell_type": "code",
   "execution_count": 538,
   "metadata": {},
   "outputs": [
    {
     "name": "stdout",
     "output_type": "stream",
     "text": [
      "Попытка 1\n",
      "Лучшее значение порога=0.07\n",
      "Прибыль для данного значения порога: 8430.31$\n",
      "\n",
      "Попытка 2\n",
      "Лучшее значение порога=0.15\n",
      "Прибыль для данного значения порога: 7191.63$\n",
      "\n",
      "Попытка 3\n",
      "Лучшее значение порога=0.1\n",
      "Прибыль для данного значения порога: 7487.24$\n",
      "\n",
      "Попытка 4\n",
      "Лучшее значение порога=0.12\n",
      "Прибыль для данного значения порога: 6773.36$\n",
      "\n",
      "Попытка 5\n",
      "Лучшее значение порога=0.2\n",
      "Прибыль для данного значения порога: 6324.8$\n",
      "\n"
     ]
    }
   ],
   "source": [
    "for i in range(5):\n",
    "    print('Попытка ' + str(i + 1))\n",
    "    means, devs = get_profits_thresholds(thresholds)\n",
    "    best_threshold = thresholds[means.index(max(means))]\n",
    "    print(\"Лучшее значение порога=\" + str(best_threshold))\n",
    "    print(\"Прибыль для данного значения порога: \" + str(round(max(means), 2)) + '$')\n",
    "    print()"
   ]
  },
  {
   "cell_type": "markdown",
   "metadata": {},
   "source": [
    "Значения порога всегда довольно небольшие, и это очевидно вытекается из описанного выше факта - цена FP результата невелика, поэтому лучше всего занижать порог, чтобы объять больше объектов положительного класса"
   ]
  },
  {
   "cell_type": "markdown",
   "metadata": {},
   "source": [
    "Каковы значения precision и recall на выбранном пороге? Оцените по кросс-валидации. Также вычислите стандартное отклонение."
   ]
  },
  {
   "cell_type": "code",
   "execution_count": 542,
   "metadata": {},
   "outputs": [],
   "source": [
    "from sklearn.metrics import recall_score, precision_score\n",
    "\n",
    "threshold = 0.07\n",
    "recalls = []\n",
    "precisions = []\n",
    "for train_idx, test_idx in folds.split(X):\n",
    "    model = logreg.fit(X.loc[train_idx], y[train_idx])\n",
    "    probas = logreg.predict_proba(X.loc[test_idx])[:, 1]\n",
    "    prediction = probas > threshold\n",
    "    recalls.append(recall_score(y[test_idx], prediction))\n",
    "    precisions.append(precision_score(y[test_idx], prediction))"
   ]
  },
  {
   "cell_type": "code",
   "execution_count": 548,
   "metadata": {},
   "outputs": [
    {
     "name": "stdout",
     "output_type": "stream",
     "text": [
      "Для порога=0.07\n",
      "precision=0.2307 с отклонением=0.0087\n",
      "recall=0.7423 с отклонением=0.0119\n"
     ]
    }
   ],
   "source": [
    "print('Для порога=' + str(threshold))\n",
    "print('precision=' + str(round(np.mean(precisions), 4)) + ' с отклонением=' + str(round(np.std(precisions), 4)))\n",
    "print('recall=' + str(round(np.mean(recalls), 4)) + ' с отклонением=' + str(round(np.std(recalls), 4)))"
   ]
  },
  {
   "cell_type": "markdown",
   "metadata": {},
   "source": [
    "Как вы, вероятно, уже поняли, ваша модель склоняется к более высокому recall. Попробуйте оценить качество модели с помощью `PR-AUC` в зоне recall $\\geq$ 0.5. Сделайте это следующим образом - выберите только те пороги, на которых достигается необходимый recall, затем интерпретируйте отсеченный в единичном квадрате прямоугольник как новый единичный квадрат и посчитайте площадь под отсеченной кривой. "
   ]
  },
  {
   "cell_type": "code",
   "execution_count": 18,
   "metadata": {},
   "outputs": [],
   "source": [
    "#your code here\n",
    "\n",
    "X_train, X_test, y_train, y_test = train_test_split(X, y, test_size=0.33, random_state=42)\n",
    "model = logreg.fit(X_train, y_train)\n",
    "prediction = logreg.decision_function(X_test)\n",
    "precision, recall, thresholds = precision_recall_curve(y_test, prediction)"
   ]
  },
  {
   "cell_type": "code",
   "execution_count": 34,
   "metadata": {},
   "outputs": [
    {
     "name": "stdout",
     "output_type": "stream",
     "text": [
      "AUC-PR (recall > 0.5) = 0.12598051691059933\n"
     ]
    }
   ],
   "source": [
    "precision_half = []\n",
    "recall_half = []\n",
    "thresholds_half = []\n",
    "for i in range(len(thresholds)):\n",
    "    if (recall[i] > 0.5):\n",
    "        precision_half.append(precision[i])\n",
    "        recall_half.append(recall[i])\n",
    "        thresholds_half.append(thresholds[i])\n",
    "print('AUC-PR (recall > 0.5) = ' + str(auc(recall_half, precision_half)))"
   ]
  },
  {
   "cell_type": "code",
   "execution_count": 35,
   "metadata": {},
   "outputs": [
    {
     "data": {
      "image/png": "[encoded data removed]",
      "text/plain": [
       "<Figure size 360x360 with 1 Axes>"
      ]
     },
     "metadata": {
      "needs_background": "light"
     },
     "output_type": "display_data"
    }
   ],
   "source": [
    "plt.figure(figsize=(5,5))\n",
    "plt.plot(recall_half, precision_half)\n",
    "plt.title('PR (recall > 0.5)')\n",
    "plt.xlabel('recall')\n",
    "plt.ylabel('precision')\n",
    "plt.show()"
   ]
  },
  {
   "cell_type": "markdown",
   "metadata": {},
   "source": [
    "__Бонус (0.01 балла):__ что вы кушали в день сдачи данного ДЗ на завтрак?\n",
    "\n",
    "__Ответ:__ [Перетёртые либо размятые плоды с изделием из мясного фарша](https://youtu.be/A1Qb4zfurA8)"
   ]
  }
 ],
 "metadata": {
  "kernelspec": {
   "display_name": "Python 3",
   "language": "python",
   "name": "python3"
  },
  "language_info": {
   "codemirror_mode": {
    "name": "ipython",
    "version": 3
   },
   "file_extension": ".py",
   "mimetype": "text/x-python",
   "name": "python",
   "nbconvert_exporter": "python",
   "pygments_lexer": "ipython3",
   "version": "3.7.4"
  }
 },
 "nbformat": 4,
 "nbformat_minor": 4
}
