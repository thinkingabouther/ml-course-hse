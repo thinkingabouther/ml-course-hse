{
 "cells": [
  {
   "cell_type": "markdown",
   "metadata": {},
   "source": [
    "# Машинное обучение, ФКН ВШЭ\n",
    "\n",
    "## Практическое задание 6. Разложение ошибки на смещение и разброс\n",
    "\n",
    "### Общая информация\n",
    "\n",
    "Дата выдачи: 20.11.2020\n",
    "\n",
    "Мягкий дедлайн: 00:59MSK 02.12.2019\n",
    "\n",
    "Жесткий дедлайн: 00:59MSK 07.12.2019\n",
    "\n",
    "### Оценивание и штрафы\n",
    "Каждая из задач имеет определенную «стоимость» (указана в скобках около задачи). Максимально допустимая оценка за работу — 10 баллов.\n",
    "\n",
    "Сдавать задание после указанного срока сдачи нельзя. При выставлении неполного балла за задание в связи с наличием ошибок на усмотрение проверяющего предусмотрена возможность исправить работу на указанных в ответном письме условиях.\n",
    "\n",
    "Задание выполняется самостоятельно. «Похожие» решения считаются плагиатом и все задействованные студенты (в том числе те, у кого списали) не могут получить за него больше 0 баллов (подробнее о плагиате см. на странице курса). Если вы нашли решение какого-то из заданий (или его часть) в открытом источнике, необходимо указать ссылку на этот источник в отдельном блоке в конце вашей работы (скорее всего вы будете не единственным, кто это нашел, поэтому чтобы исключить подозрение в плагиате, необходима ссылка на источник).\n",
    "\n",
    "Неэффективная реализация кода может негативно отразиться на оценке.\n",
    "\n",
    "### Формат сдачи\n",
    "Задания сдаются через систему anytask. Посылка должна содержать:\n",
    "* Ноутбук homework-practice-06-Username.ipynb\n",
    "\n",
    "Username — ваша фамилия и имя на латинице именно в таком порядке\n",
    "\n",
    "### О задании\n",
    "\n",
    "В этом задании вам предстоит воспользоваться возможностями бутстрапа для оценки смещения и разброса алгоритмов машинного обучения. Делать мы это будем на данных boston:"
   ]
  },
  {
   "cell_type": "code",
   "execution_count": 90,
   "metadata": {},
   "outputs": [],
   "source": [
    "import numpy as np\n",
    "import pandas as pd\n",
    "from matplotlib import pyplot as plt\n",
    "%matplotlib inline\n",
    "from sklearn.linear_model import LinearRegression\n",
    "from sklearn.ensemble import RandomForestRegressor\n",
    "from sklearn.tree import DecisionTreeRegressor\n",
    "from sklearn.datasets import load_boston\n",
    "from sklearn.ensemble import BaggingRegressor\n",
    "from sklearn.model_selection import train_test_split\n",
    "from sklearn.ensemble import GradientBoostingRegressor"
   ]
  },
  {
   "cell_type": "code",
   "execution_count": 2,
   "metadata": {},
   "outputs": [],
   "source": [
    "boston = load_boston()"
   ]
  },
  {
   "cell_type": "code",
   "execution_count": 3,
   "metadata": {},
   "outputs": [],
   "source": [
    "X = boston[\"data\"]\n",
    "y = boston[\"target\"]"
   ]
  },
  {
   "cell_type": "code",
   "execution_count": 4,
   "metadata": {},
   "outputs": [
    {
     "data": {
      "text/plain": [
       "((506, 13), (506,))"
      ]
     },
     "execution_count": 4,
     "metadata": {},
     "output_type": "execute_result"
    }
   ],
   "source": [
    "X.shape, y.shape"
   ]
  },
  {
   "cell_type": "markdown",
   "metadata": {},
   "source": [
    "### Вычисление bias и variance с помощью бутстрапа\n",
    "На лекции была выведено следующая формула, показывающая, как можно представить ошибку алгоритма регрессии в виде суммы трех компонент:\n",
    "$$\n",
    "L(\\mu) = \n",
    "    \\mathbb{E}_{x, y}\\bigl[\\mathbb{E}_{X}\\bigl[ (y - \\mu(X)(x))^2 \\bigr]\\bigr] = \n",
    "$$\n",
    "$$\n",
    "    \\underbrace{\\mathbb{E}_{x, y}\\bigl[(y - \\mathbb{E}[y|x] )^2\\bigr]}_{\\text{шум}} + \\underbrace{\\mathbb{E}_{x}\\bigl[(\\mathbb{E}_{X}[\\mu(X)(x)] - \\mathbb{E}[y|x] )^2\\bigr]}_{\\text{смещение}} +\n",
    "    \\underbrace{\\mathbb{E}_{x}\\bigl[\\mathbb{E}_{X}\\bigl[(\\mu(X)(x) - \\mathbb{E}_{X}[\\mu(X)(x)] )^2\\bigr]\\bigr]}_{\\text{разброс}},\n",
    "$$\n",
    "* $\\mu(X)$ — алгоритм, обученный по выборке $X = \\{(x_1, y_1), \\dots (x_\\ell, y_\\ell)\\}$;\n",
    "* $\\mu(X)(x)$ — ответ алгоритма, обученного по выборке $X$, на объекте $x$;\n",
    "* $\\mathbb{E}_{X}$ — мат. ожидание по всем возможным выборкам;\n",
    "* $\\mathbb{E}_{X}[\\mu(X)(x)]$ — \"средний\" ответ алгоритма, обученного по всем возможным выборкам $X$, на объекте $x$.\n",
    "    \n",
    "С помощью этой формулы мы можем анализировать свойства алгоритма обучения модели $\\mu$, если зададим вероятностную модель порождения пар $p(x, y)$.\n",
    "\n",
    "В реальных задачах мы, конечно же, не знаем распределение на парах объект - правильный ответ. Однако у нас есть набор семплов из этого распределения (обучающую выборка), и мы можем использовать его, чтобы оценивать математические ожидания. Для оценки мат. ожиданий по выборкам мы будем пользоваться бутстрэпом - методом генерации \"новых\" выборок из одной с помощью выбора объектов с возвращением. Разберем несколько шагов на пути к оценке смещения и разброса.\n",
    "\n",
    "#### Приближенное вычисление интегралов\n",
    "На занятиях мы разбирали примеры аналитического вычисления смещения и разброса нескольких алгоритмов обучения. Для большинства моделей данных и алгоритмов обучения аналитически рассчитать математические ожидания в формулах не удастся. Однако мат. ожидания можно оценивать приближенно. Чтобы оценить математическое ожидание $\\mathbb{E}_{\\bar z} f(\\bar z)$ функции от многомерной случайной величины $\\bar z = (z_1, \\dots, z_d)$, $\\bar z \\sim p(\\bar z)$, можно сгенерировать выборку из распределения $p(\\bar z)$ и усреднить значение функции на элементах этой выборки:\n",
    "$$\\mathbb{E}_{\\bar z} f(z) = \\int f(\\bar z) p(\\bar z) d \\bar z \\approx \\frac 1 m \\sum_{i=1}^m f(\\bar z_i), \\, \\bar z_i \\sim p(\\bar z), i = 1, \\dots, m.$$\n",
    "\n",
    "Например, оценим $\\mathbb{E}_z z^2,$ $z \\sim \\mathcal{N}(\\mu=5, \\sigma=3)$ (из теории вероятностей мы знаем, что\n",
    "$\\mathbb{E}_z z^2 = \\sigma^2 + \\mu^2 = 34$):"
   ]
  },
  {
   "cell_type": "code",
   "execution_count": 5,
   "metadata": {},
   "outputs": [
    {
     "data": {
      "text/plain": [
       "34.72328142252556"
      ]
     },
     "execution_count": 5,
     "metadata": {},
     "output_type": "execute_result"
    }
   ],
   "source": [
    "z = np.random.normal(loc=5, scale=3, size=1000)\n",
    "(z**2).mean()"
   ]
  },
  {
   "cell_type": "markdown",
   "metadata": {},
   "source": [
    "#### Оценивание $\\mathbb{E}_{x, y}$\n",
    "Оценить мат. ожидания по $x$ и по $x, y$, встречающиеся во всех трех компонентах разложения, несложно, потому что у нас есть выборка объектов из распределения данных $p(x, y)$:\n",
    "$$ \\mathbb{E}_{x} f(x) \\approx \\frac 1 N \\sum_{i=1}^N f(x_i), \\quad\n",
    "\\mathbb{E}_{x, y} f(x, y) \\approx \\frac 1 N \\sum_{i=1}^N f(x_i, y_i),$$\n",
    "где $N$ - число объектов в выборке, $\\{(x_i, y_i)\\}_{i=1}^N$ - сама выборка. \n",
    "\n",
    "#### Оценивание $\\mathbb{E}_X$ с помощью бутстрапа\n",
    "Чтобы оценить мат. ожидание по $X$, нам понадобится выборка из выборок:\n",
    "$$\\mathbb{E}_X f(X) \\approx \\frac 1 s \\sum_{j=1}^s f(X_j),$$\n",
    "где $X_j$ - $j$-я выборка. Чтобы их получить, мы можем воспользоваться бутстрапом - методом генерации выборок на основе выбора объектов с возвращением. Чтобы составить одну выборку, будем $N$ раз выбирать индекс объекта $i \\sim \\text{Uniform}(1 \\dots N)$ и добавлять $i$-ю пару (объект, целевая переменная) в выборку. В результате в каждой выборке могут появиться повторяющиеся объекты, а какие-то объекты могут вовсе не войти в некоторые выборки.\n",
    "\n",
    "#### Итоговый алгоритм оценки смещения и разброса алгоритма $a$\n",
    "1. Сгенерировать $s$ выборок $X_j$ методом бутстрапа.\n",
    "1. На каждой выборке $X_j$ обучить алгоритм $a_j$.\n",
    "1. Для каждой выборки $X_j$ определить множество объектов $T_j$, не вошедших в нее (out-of-bag). Вычислить предсказания алгоритма $a_j$ на объектах $T_j$. \n",
    "\n",
    "Поскольку у нас есть только один ответ для каждого объекта, мы будем считать шум равным 0, а $\\mathbb{E}[y|x]$ равным имеющемуся правильному ответу для объекта $x$. \n",
    "\n",
    "Итоговые оценки:\n",
    "* Смещение: для одного объекта - квадрат разности среднего предсказания и правильного ответа. Среднее предсказание берется только по тем алгоритмам $a_j$, для которых этот объект входил в out-of-bag выборку $T_j$. Для получения общего смещения выполнить усреденение смещений по объектам.\n",
    "* Разброс: для одного объекта - выборочная дисперсия предсказаний алгоритмов $a_j$, для которых этот объект входил в out-of-bag выборку $T_j$. Для получения общего разброса выполнить усреденение разбросов по объектам.\n",
    "* Ошибка $L$: усреднить квадраты разностей предсказания и правильного ответа по всем выполненным предсказаниям для всех объектов.\n",
    "\n",
    "В результате должно получиться, что ошибка приблизительно равна сумме смещения и разброса!\n",
    "\n",
    "Алгоритм также вкратце описан по [ссылке](https://web.engr.oregonstate.edu/~tgd/classes/534/slides/part9.pdf) (слайды 19-21).\n",
    "\n",
    "__1. (3 балла)__\n",
    "\n",
    "Реализуйте описанный алгоритм. Обратите внимание, что если объект не вошел ни в одну из out-of-bag выборок, учитывать его в вычислении итоговых величин не нужно. Как обычно, разрешается использовать только один цикл - по выборкам (от 0 до num_runs-1)."
   ]
  },
  {
   "cell_type": "code",
   "execution_count": 54,
   "metadata": {},
   "outputs": [],
   "source": [
    "def compute_biase_variance(regressor, X, y, num_runs=1000):\n",
    "    \"\"\"\n",
    "    :param regressor: sklearn estimator with fit(...) and predict(...) method\n",
    "    :param X: numpy-array representing training set ob objects, shape [n_obj, n_feat]\n",
    "    :param y: numpy-array representing target for training objects, shape [n_obj]\n",
    "    :param num_runs: int, number of samples (s in the description of the algorithm)\n",
    "    \n",
    "    :returns: bias (float), variance (float), error (float) \n",
    "    each value is computed using bootstrap\n",
    "    \"\"\"\n",
    "    whole_idx = range(X.shape[0]) # индексы всех объектов для генерации OOB\n",
    "    whole_num_runs = range(num_runs) # индексаторы по количеству num_runs для создания датафреймов\n",
    "    prediction_history = pd.DataFrame(index=whole_idx, columns=whole_num_runs) # здесь храним предсказания моделей в количестве num_runs\n",
    "    out_of_bag_history = pd.DataFrame(index=whole_idx, columns=whole_num_runs) # здесь храним маркеры попадания объекта в OOB для i-ой модели\n",
    "    errors = [] # здесь будем хранить ошибку для i-ой модели\n",
    "    for i in whole_num_runs:\n",
    "        #if i % 10 == 0:\n",
    "        #    print(\"Итерация: \" + str(i))\n",
    "        oob_idx = np.random.choice(range(X.shape[0]), size=X.shape[0])\n",
    "        in_oob_idx = list(set(range(X.shape[0])) - set(oob_idx))\n",
    "        X_train = X[oob_idx, :]\n",
    "        X_test = X[in_oob_idx, :]\n",
    "        y_train = y[oob_idx]\n",
    "        y_test = y[in_oob_idx]\n",
    "        model = regressor.fit(X_train, y_train)\n",
    "        prediction = model.predict(X_test)\n",
    "        out_of_bag_history.iloc[in_oob_idx, i] = True\n",
    "        out_of_bag_history.iloc[oob_idx, i] = False\n",
    "        prediction_history.iloc[in_oob_idx, i] = prediction\n",
    "        errors.append(np.mean(np.square(y_test-prediction)))\n",
    "    bias = ((prediction_history[out_of_bag_history].mean(axis=1) - y)**2).mean()\n",
    "    means = np.repeat(np.expand_dims(prediction_history[out_of_bag_history].mean(axis = 1), axis=1), repeats=num_runs, axis=1)\n",
    "    difference = means -  prediction_history[out_of_bag_history] \n",
    "    variance = ((difference ** 2).mean()).mean()\n",
    "    error = np.mean(errors)\n",
    "    return bias, variance, error"
   ]
  },
  {
   "cell_type": "markdown",
   "metadata": {},
   "source": [
    "__2. (0 баллов)__\n",
    "\n",
    "Оцените смещение, разброс и ошибку для трех алгоритмов с гиперпараметрами по умолчанию: линейная регрессия, решающее дерево, случайный лес."
   ]
  },
  {
   "cell_type": "code",
   "execution_count": 7,
   "metadata": {},
   "outputs": [
    {
     "name": "stdout",
     "output_type": "stream",
     "text": [
      "LinearRegression()\n",
      "Итерация: 0\n",
      "Итерация: 10\n",
      "Итерация: 20\n",
      "Итерация: 30\n",
      "Итерация: 40\n",
      "Итерация: 50\n",
      "Итерация: 60\n",
      "Итерация: 70\n",
      "Итерация: 80\n",
      "Итерация: 90\n",
      "DecisionTreeRegressor()\n",
      "Итерация: 0\n",
      "Итерация: 10\n",
      "Итерация: 20\n",
      "Итерация: 30\n",
      "Итерация: 40\n",
      "Итерация: 50\n",
      "Итерация: 60\n",
      "Итерация: 70\n",
      "Итерация: 80\n",
      "Итерация: 90\n",
      "RandomForestRegressor()\n",
      "Итерация: 0\n",
      "Итерация: 10\n",
      "Итерация: 20\n",
      "Итерация: 30\n",
      "Итерация: 40\n",
      "Итерация: 50\n",
      "Итерация: 60\n",
      "Итерация: 70\n",
      "Итерация: 80\n",
      "Итерация: 90\n"
     ]
    }
   ],
   "source": [
    "### your code here\n",
    "models = [LinearRegression(), DecisionTreeRegressor(), RandomForestRegressor()]\n",
    "results = {}\n",
    "for model in models:\n",
    "    print(model)\n",
    "    results[model] = compute_biase_variance(model, X, y, num_runs=100)"
   ]
  },
  {
   "cell_type": "code",
   "execution_count": 8,
   "metadata": {},
   "outputs": [
    {
     "name": "stdout",
     "output_type": "stream",
     "text": [
      "LinearRegression() :\n",
      "Bias: 23.915150706449918\n",
      "Variance: 1.0155795494720905\n",
      "Error: 25.424848613790246\n",
      "\n",
      "DecisionTreeRegressor() :\n",
      "Bias: 10.062401929788674\n",
      "Variance: 13.034170158846717\n",
      "Error: 23.018321269241504\n",
      "\n",
      "RandomForestRegressor() :\n",
      "Bias: 10.447689319983162\n",
      "Variance: 2.1589448861739795\n",
      "Error: 12.596991776414875\n",
      "\n"
     ]
    }
   ],
   "source": [
    "for model, data in results.items():\n",
    "    print(model, \":\")\n",
    "    print(\"Bias: \" + str(data[0]))\n",
    "    print(\"Variance: \" + str(data[1]))    \n",
    "    print(\"Error: \" + str(data[2]))\n",
    "    print()"
   ]
  },
  {
   "cell_type": "markdown",
   "metadata": {},
   "source": [
    "__3. (1 балл)__\n",
    "Проанализируйте полученный результат. Согласуются ли полученные результаты с теми, что мы обсуждали на занятиях (с комментарием)?\n",
    "\n",
    "__Your answer here:__"
   ]
  },
  {
   "cell_type": "markdown",
   "metadata": {},
   "source": [
    "- **Линейная регрессия**: Ошибка довольно высока, практически полностью эту ошибку составляет смещение модели. Модель имеет низкий разброс, то есть не имеет большую тендецию к оверфиту и не ведет себя неадекватно на трейне, что в целом присуще линейной регрессии\n",
    "- **Решающее дерево**: Ошибка практически идентична линейной регрессии, но теперь практически половину ошибки составляет разброс, то есть дерево сильно ошибается на выборке, не соотвествующей обучающей. При этом очевидно, что дерево будет иметь меньшее смещение по отношению к регрессии, ведь одиночное дерево легко переобучается\n",
    "- **Случайный лес**: Ошибка ощутимо снижается в отличие от обычного дерева и регрессии, при этом смещение практически соответствует смещению одного дерева, а разброс драматически уменьшен из-за использования композиции деревьев."
   ]
  },
  {
   "cell_type": "markdown",
   "metadata": {},
   "source": [
    "__4. (1 балл)__\n",
    "Постройте бэггинг над всеми тремя моделями (линейная регрессия, решающее дерево, случайный лес). Вспомните обсуждение с лекции о том, во сколько раз в теории бэггинг уменьшает разброс базового алгоритма. Выполняется ли это в ваших экспериментах? Если нет, поясните, почему.\n",
    "\n",
    "__Your answer here:__\n",
    "\n",
    "В идеальном случае беггинг для n базовых алгоритмов может уменьшить разброс в n раз разброс по сравнению с этим базовым алгоритмом. Достигается это только в случае, когда получающиеся базовые алгоритмы не коррелированы. \n",
    "\n",
    "Очевидно, что линейные модели, даже получаемые по бутрстрапированным выборкам, будут достаточно сильно коррелированны между собой, поэтому беггинг над линейной регрессией не дает практически никаких результатов. В случае с одиночными деревьями результат ощутимый, модели сами по себе сложны и получаюся относительно не коррелированными, потому сдвиг не повышается, а разрос ощутимо падает (хоть и не в 10 раз соответственно заявленному при n_estimators=10, а около 4 раз, но всё равно, прирост очень большой). Что же касается беггинга над случайным лесом, здесь ожидаемо мы не видим никаких результатов, ведь случайный лес уже подразумевает беггинг с семплированием признаков, соответственно беггинг над случайным лесом не дает ощутимых приростов."
   ]
  },
  {
   "cell_type": "code",
   "execution_count": 10,
   "metadata": {},
   "outputs": [
    {
     "name": "stdout",
     "output_type": "stream",
     "text": [
      "Итерация: 0\n",
      "Итерация: 10\n",
      "Итерация: 20\n",
      "Итерация: 30\n",
      "Итерация: 40\n",
      "Итерация: 50\n",
      "Итерация: 60\n",
      "Итерация: 70\n",
      "Итерация: 80\n",
      "Итерация: 90\n",
      "Итерация: 0\n",
      "Итерация: 10\n",
      "Итерация: 20\n",
      "Итерация: 30\n",
      "Итерация: 40\n",
      "Итерация: 50\n",
      "Итерация: 60\n",
      "Итерация: 70\n",
      "Итерация: 80\n",
      "Итерация: 90\n",
      "Итерация: 0\n",
      "Итерация: 10\n",
      "Итерация: 20\n",
      "Итерация: 30\n",
      "Итерация: 40\n",
      "Итерация: 50\n",
      "Итерация: 60\n",
      "Итерация: 70\n",
      "Итерация: 80\n",
      "Итерация: 90\n"
     ]
    }
   ],
   "source": [
    "results = {}\n",
    "for model in models:\n",
    "    regressor = BaggingRegressor(base_estimator=model, n_estimators=10)\n",
    "    results[model] = compute_biase_variance(regressor, X, y, num_runs=100)"
   ]
  },
  {
   "cell_type": "code",
   "execution_count": 11,
   "metadata": {},
   "outputs": [
    {
     "name": "stdout",
     "output_type": "stream",
     "text": [
      "LinearRegression() :\n",
      "Bias: 23.955551214878607\n",
      "Variance: 1.062157137299634\n",
      "Error: 25.024108006365037\n",
      "\n",
      "DecisionTreeRegressor() :\n",
      "Bias: 10.684584049059026\n",
      "Variance: 3.2515996780210044\n",
      "Error: 13.747739077847523\n",
      "\n",
      "RandomForestRegressor() :\n",
      "Bias: 11.630897686021715\n",
      "Variance: 1.37397006848461\n",
      "Error: 13.205120604568588\n",
      "\n"
     ]
    }
   ],
   "source": [
    "for model, data in results.items():\n",
    "    print(model, \":\")\n",
    "    print(\"Bias: \" + str(data[0]))\n",
    "    print(\"Variance: \" + str(data[1]))    \n",
    "    print(\"Error: \" + str(data[2]))\n",
    "    print()"
   ]
  },
  {
   "cell_type": "markdown",
   "metadata": {},
   "source": [
    "### Визуализация предсказаний базовых алгоритмов бэггинга\n",
    "\n",
    "В материалах лекций можно найти изображение, похожее на мишень - визуализация алгоритмов с разным смещением и разным разбросом. В центре \"мишени\" - правильный ответ, а \"попадания\" - предсказания алгоритмов, обученных по разным выборкам. Построим похожее изображение на наших данных для трех алгоритмов. Наши \"мишени\" будут одномерными, потому что мы решаем задачу одномерной регрессии.\n",
    "\n",
    "__5. (2 балла)__\n",
    "\n",
    "Реализуйте фукнцию plot_predictions. Она должна выполнять следующие действия:\n",
    "1. Случайно выбрать num_test_objects пар объект-целевая переменная из выборки X, y. Получится две выборки: маленькая X_test, y_test (выбранные тестовые объекты) и X_train, y_train (остальные объекты).\n",
    "1. Сгенерировать num_runs выборок методом бутстарапа из X_train, y_train. На каждой выборке обучить алгоритм regressor и сделать предсказания для X_test.\n",
    "1. Нарисовать scatter-график. По оси абсцисс - объекты тестовой выборки (номера от 0 до num_test_objects-1), по оси ординат - предсказания. В итоге получится num_test_objects столбиков с точками. Для каждого тестового объекта надо отметить одним цветом все предсказания для него, а также черным цветом отметить правильный ответ.\n",
    "1. Подпишите оси и название графика (аргумент title)."
   ]
  },
  {
   "cell_type": "code",
   "execution_count": 49,
   "metadata": {},
   "outputs": [],
   "source": [
    "def plot_predictions(ax, regressor, X, y, num_runs=100, num_test_objects=10, title=\"\"):\n",
    "    \"\"\"\n",
    "    plot graphics described above\n",
    "    \"\"\"\n",
    "    ### your code here\n",
    "    ax.set_ylabel('Предсказание')\n",
    "    ax.set_xlabel('№ объекта')\n",
    "    ax.set_title(title)\n",
    "    test_size = num_test_objects / X.shape[0]\n",
    "    X_train, X_test, y_train, y_test = train_test_split(X, y, test_size=test_size)\n",
    "    test_objects_range = range(num_test_objects)\n",
    "    for i in range(num_runs):\n",
    "        oob_idx = np.random.choice(range(X_train.shape[0]), size=X_train.shape[0])\n",
    "        X_oob = X[oob_idx, :]\n",
    "        y_oob = y[oob_idx]\n",
    "        regressor.fit(X_oob, y_oob)\n",
    "        prediction = regressor.predict(X_test)\n",
    "        ax.scatter(test_objects_range, prediction, color = 'blue')\n",
    "    ax.scatter(test_objects_range, y_test, s=100, color = 'red', marker='x')    \n",
    "\n"
   ]
  },
  {
   "cell_type": "markdown",
   "metadata": {},
   "source": [
    "__6. (0 баллов)__\n",
    "\n",
    "Нарисуйте графики для линейной регрессии, решающего дерева и случайного леса. Нарисуйте три графика в строчку (это можно сделать с помощью plt.subplot) с одинаковой осью ординат (это важно для понимания масштаба разброса у разных алгоритмов):"
   ]
  },
  {
   "cell_type": "code",
   "execution_count": 52,
   "metadata": {},
   "outputs": [
    {
     "data": {
      "image/png": "[encoded data removed]",
      "text/plain": [
       "<Figure size 1440x432 with 3 Axes>"
      ]
     },
     "metadata": {
      "needs_background": "light"
     },
     "output_type": "display_data"
    }
   ],
   "source": [
    "### your code here\n",
    "fig, axs = plt.subplots(1, 3, sharey=True, figsize=(20, 6))\n",
    "for i, model in enumerate(models):\n",
    "    plot_predictions(axs[i], model, X, y, title=model.__class__.__name__)"
   ]
  },
  {
   "cell_type": "markdown",
   "metadata": {},
   "source": [
    "__7. (1 балл)__\n",
    "\n",
    "Для каждого графика прокомментируйте, как он характеризует смещение и разброс соответствующего алгоритма. \n",
    "\n",
    "__Your answer here:__\n",
    "По сути, высота получившихся столбиков иллюстрирует то, насколько сильно на одном и том же объекте различаются предсказания (это и есть разброс), а при помощи крестиков (реальных значений таргета) можно прикинуть смещение алгоритма. Исходя из этой логики получаем:\n",
    "- Линейная регрессия: столбики относительно короткие => разброс невысокий, при этом крестики часто не попадают в столбики и находятся далеко от них => смещение высокое\n",
    "- Одиночное дерево: столбики достаточно высокие, отдельные точки далеко от столбиков => большой разброс, при этом крестики всегда попадают в эти столбики => смещение невысокое\n",
    "- Случайный лес: столбики не такие высокие, как для одиночных деревьев, соизмеримы с линрегом => невысокий разброс, крестики всегда попадают в столбики => смещение так же невысоко"
   ]
  },
  {
   "cell_type": "markdown",
   "metadata": {},
   "source": [
    "### Изменение bias и variance при изменении гиперпараметров"
   ]
  },
  {
   "cell_type": "markdown",
   "metadata": {},
   "source": [
    "__8. (0 баллов)__\n",
    "\n",
    "Постройте графики зависимости смещения и разброса от гиперпараметров решающего дерева max_depth (от 1 до 10) и max_features (от 1 до X.shape[1]):"
   ]
  },
  {
   "cell_type": "code",
   "execution_count": 57,
   "metadata": {},
   "outputs": [],
   "source": [
    "### your code here\n",
    "depth_results = []\n",
    "depth_params = range(1, 11)\n",
    "for depth in depth_params:\n",
    "    bias, variance, error = compute_biase_variance(DecisionTreeRegressor(max_depth = depth), X, y, num_runs=100)\n",
    "    depth_results.append((bias, variance))"
   ]
  },
  {
   "cell_type": "code",
   "execution_count": 82,
   "metadata": {},
   "outputs": [
    {
     "data": {
      "image/png": "[encoded data removed]",
      "text/plain": [
       "<Figure size 432x288 with 1 Axes>"
      ]
     },
     "metadata": {
      "needs_background": "light"
     },
     "output_type": "display_data"
    }
   ],
   "source": [
    "data = pd.DataFrame(depth_results, columns=[\"Смещение\", \"Разброс\"])\n",
    "plt.plot(depth_params, data.iloc[:, 0], label=\"Смещение\")\n",
    "plt.plot(depth_params, data.iloc[:, 1], label=\"Разброс\")\n",
    "plt.legend()\n",
    "plt.xlabel(\"Глубина дерева\")\n",
    "plt.ylabel(\"Значение составляющей ошибки\")\n",
    "plt.title(\"Зависимость смещения и разброса от глубины дерева\")\n",
    "plt.show()"
   ]
  },
  {
   "cell_type": "code",
   "execution_count": 83,
   "metadata": {},
   "outputs": [],
   "source": [
    "max_features_results = []\n",
    "max_features_params = range(1, X.shape[1])\n",
    "for max_features in max_features_params:\n",
    "    bias, variance, error = compute_biase_variance(DecisionTreeRegressor(max_features = max_features), X, y, num_runs=100)\n",
    "    max_features_results.append((bias, variance))"
   ]
  },
  {
   "cell_type": "code",
   "execution_count": 89,
   "metadata": {},
   "outputs": [
    {
     "data": {
      "image/png": "[encoded data removed]",
      "text/plain": [
       "<Figure size 432x288 with 1 Axes>"
      ]
     },
     "metadata": {
      "needs_background": "light"
     },
     "output_type": "display_data"
    }
   ],
   "source": [
    "data = pd.DataFrame(max_features_results, columns=[\"Смещение\", \"Разброс\"])\n",
    "plt.plot(max_features_params, data.iloc[:, 0], label=\"Смещение\")\n",
    "plt.plot(max_features_params, data.iloc[:, 1], label=\"Разброс\")\n",
    "plt.legend()\n",
    "plt.xlabel(\"Максимальное количество признаков\")\n",
    "plt.ylabel(\"Значение составляющей ошибки\")\n",
    "plt.title(\"Зависимость смещения и разброса от максимального количества признаков\")\n",
    "plt.show()"
   ]
  },
  {
   "cell_type": "markdown",
   "metadata": {},
   "source": [
    "__9. (0 баллов)__\n",
    "\n",
    "Постройте графики зависимости смещения и разброса от n_estimators (по сетке 2**np.arange(1, 10)) для случайного леса и градиентного бустинга:"
   ]
  },
  {
   "cell_type": "markdown",
   "metadata": {},
   "source": [
    "Рассмотрим графики на логарифмической шкале"
   ]
  },
  {
   "cell_type": "code",
   "execution_count": 93,
   "metadata": {},
   "outputs": [
    {
     "name": "stdout",
     "output_type": "stream",
     "text": [
      "Estimators: 2\n",
      "Estimators: 4\n",
      "Estimators: 8\n",
      "Estimators: 16\n",
      "Estimators: 32\n",
      "Estimators: 64\n",
      "Estimators: 128\n",
      "Estimators: 256\n",
      "Estimators: 512\n"
     ]
    }
   ],
   "source": [
    "### your code here\n",
    "n_estimators_params = 2 ** np.arange(1, 10)\n",
    "random_forest_results = []\n",
    "gradient_boosting_results = []\n",
    "\n",
    "for n_estimators in n_estimators_params:\n",
    "    print(\"Estimators: \" + str(n_estimators))\n",
    "    bias, variance, error = compute_biase_variance(GradientBoostingRegressor(n_estimators = n_estimators), X, y, num_runs=100)\n",
    "    gradient_boosting_results.append((bias, variance))\n",
    "    bias, variance, error = compute_biase_variance(RandomForestRegressor(n_estimators = n_estimators), X, y, num_runs=100)\n",
    "    random_forest_results.append((bias, variance))"
   ]
  },
  {
   "cell_type": "code",
   "execution_count": 102,
   "metadata": {},
   "outputs": [
    {
     "data": {
      "image/png": "[encoded data removed]",
      "text/plain": [
       "<Figure size 432x288 with 1 Axes>"
      ]
     },
     "metadata": {
      "needs_background": "light"
     },
     "output_type": "display_data"
    }
   ],
   "source": [
    "data = pd.DataFrame(random_forest_results, columns=[\"Смещение\", \"Разброс\"])\n",
    "plt.plot(n_estimators_params, data.iloc[:, 0], label=\"Смещение\")\n",
    "plt.plot(n_estimators_params, data.iloc[:, 1], label=\"Разброс\")\n",
    "plt.xscale('log')\n",
    "plt.legend()\n",
    "plt.xlabel(\"Количество базовых алгоритмов\")\n",
    "plt.ylabel(\"Значение составляющей ошибки\")\n",
    "plt.title(\"Random Forest. Зависимость смещения и разброса от количества базовых алгоритмов\")\n",
    "plt.show()"
   ]
  },
  {
   "cell_type": "code",
   "execution_count": 103,
   "metadata": {},
   "outputs": [
    {
     "data": {
      "image/png": "[encoded data removed]",
      "text/plain": [
       "<Figure size 432x288 with 1 Axes>"
      ]
     },
     "metadata": {
      "needs_background": "light"
     },
     "output_type": "display_data"
    }
   ],
   "source": [
    "data = pd.DataFrame(gradient_boosting_results, columns=[\"Смещение\", \"Разброс\"])\n",
    "plt.plot(n_estimators_params, data.iloc[:, 0], label=\"Смещение\")\n",
    "plt.plot(n_estimators_params, data.iloc[:, 1], label=\"Разброс\")\n",
    "plt.legend()\n",
    "plt.xscale('log')\n",
    "plt.xlabel(\"Количество базовых алгоритмов\")\n",
    "plt.ylabel(\"Значение составляющей ошибки\")\n",
    "plt.title(\"Градиентный бустинг. Зависимость смещения и разброса от количества базовых алгоритмов\")\n",
    "plt.show()"
   ]
  },
  {
   "cell_type": "markdown",
   "metadata": {},
   "source": [
    "__10. (2 балла)__\n",
    "\n",
    "Прокомментируйте графики (всего 4 графика): почему они имеют такой вид.\n",
    "\n",
    "__Your answer here:__"
   ]
  },
  {
   "cell_type": "markdown",
   "metadata": {},
   "source": [
    "- Зависимость смещения и разброса от глубины дерева: очевидно, что чем больше глубина дерева, тем более сложным это дерево получается, соответственно, тем лучше дерево способно подогнаться под выборку, тем самым уменьшая смещение. В таком случае также очевидно, что с увеличением глубины (а следовательно, и сложности) дерева будет увеличиваться его разброс.\n",
    "\n",
    "\n",
    "- Зависимость смещения и разброса от максимального количества признаков для решающего дерева: чем больше признаков охватывается при выборе предиката во время обучения дерева, тем больше шансов точно предсказать таргет. При этом наблюдается ситуация, что при добалении признаков начиная с определенного порога (в нашем случае, с 7 признаков) смещение начинает расти. Это может говорить о том, что признаки, которые добавляются после 7, не самые лучшие с точки зрения качества модели. Разброс стабильно уменьшается, что может говорить о том, что деревья, использующие малое количество признаков, больше склонны к переобучению.\n",
    "\n",
    "\n",
    "- Зависимость смещения и разброса от количества базовых алгоритмов для случайного леса: смещение модели остается приблизительно постоянным, поскольку при построении случайного леса разброс композиции соответствует разбросу одного базового алгоритма. При этом с добавлением большего количества алгоритмов в композицию разброс падает, но начиная с 128 алгоритмов изменения становятся несущественными. \n",
    "\n",
    "- Зависимость смещения и разброс от количества базовых алгоритмов для градиентного бустинга: смещение модели начинается с очень больших значений для малого количестова базовых алгоритмов, поскольку для бустинга в качестве первых базовых алгоритмов берутся простые модели, плохо предсказывающие таргет. При этом начиная с определенных значений (в нашем случае - с 64) смещение перестает ощутимо уменьшаться. Разброс композиции остается достаточно низким, поскольку в композиции используются простые алгоритмы. "
   ]
  }
 ],
 "metadata": {
  "kernelspec": {
   "display_name": "Python 3",
   "language": "python",
   "name": "python3"
  },
  "language_info": {
   "codemirror_mode": {
    "name": "ipython",
    "version": 3
   },
   "file_extension": ".py",
   "mimetype": "text/x-python",
   "name": "python",
   "nbconvert_exporter": "python",
   "pygments_lexer": "ipython3",
   "version": "3.7.4"
  },
  "toc": {
   "base_numbering": 1,
   "nav_menu": {},
   "number_sections": true,
   "sideBar": true,
   "skip_h1_title": true,
   "title_cell": "Table of Contents",
   "title_sidebar": "Contents",
   "toc_cell": false,
   "toc_position": {},
   "toc_section_display": true,
   "toc_window_display": false
  },
  "varInspector": {
   "cols": {
    "lenName": 16,
    "lenType": 16,
    "lenVar": 40
   },
   "kernels_config": {
    "python": {
     "delete_cmd_postfix": "",
     "delete_cmd_prefix": "del ",
     "library": "var_list.py",
     "varRefreshCmd": "print(var_dic_list())"
    },
    "r": {
     "delete_cmd_postfix": ") ",
     "delete_cmd_prefix": "rm(",
     "library": "var_list.r",
     "varRefreshCmd": "cat(var_dic_list()) "
    }
   },
   "types_to_exclude": [
    "module",
    "function",
    "builtin_function_or_method",
    "instance",
    "_Feature"
   ],
   "window_display": false
  }
 },
 "nbformat": 4,
 "nbformat_minor": 4
}
